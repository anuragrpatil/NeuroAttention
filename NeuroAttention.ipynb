{
  "nbformat": 4,
  "nbformat_minor": 0,
  "metadata": {
    "colab": {
      "name": "NeuroAttention.ipynb",
      "provenance": [],
      "collapsed_sections": [
        "SovEoQ9DMIBD",
        "Xm3SgvfVPsWR",
        "4apIDdTTNqhK",
        "ywt35qEsOGtK",
        "srQxce4rOdgK",
        "MaR3yTisOm0q",
        "KKvPBLfcr1aa"
      ],
      "toc_visible": true,
      "authorship_tag": "ABX9TyMowKYCk8ggBq1BYTYf0AhC",
      "include_colab_link": true
    },
    "kernelspec": {
      "name": "python3",
      "display_name": "Python 3"
    },
    "accelerator": "TPU"
  },
  "cells": [
    {
      "cell_type": "markdown",
      "metadata": {
        "id": "view-in-github",
        "colab_type": "text"
      },
      "source": [
        "<a href=\"https://colab.research.google.com/github/anuragrpatil/NeuroAttention/blob/master/NeuroAttention.ipynb\" target=\"_parent\"><img src=\"https://colab.research.google.com/assets/colab-badge.svg\" alt=\"Open In Colab\"/></a>"
      ]
    },
    {
      "cell_type": "markdown",
      "metadata": {
        "id": "SovEoQ9DMIBD",
        "colab_type": "text"
      },
      "source": [
        "# Colab  idiosyncrasies"
      ]
    },
    {
      "cell_type": "code",
      "metadata": {
        "id": "HPQwXWebMU2_",
        "colab_type": "code",
        "outputId": "97e4a420-7b94-4685-c6d6-db7758e08b9e",
        "colab": {
          "base_uri": "https://localhost:8080/",
          "height": 125
        }
      },
      "source": [
        "from google.colab import drive\n",
        "drive.mount('/content/drive/')"
      ],
      "execution_count": 1,
      "outputs": [
        {
          "output_type": "stream",
          "text": [
            "Go to this URL in a browser: https://accounts.google.com/o/oauth2/auth?client_id=947318989803-6bn6qk8qdgf4n4g3pfee6491hc0brc4i.apps.googleusercontent.com&redirect_uri=urn%3aietf%3awg%3aoauth%3a2.0%3aoob&response_type=code&scope=email%20https%3a%2f%2fwww.googleapis.com%2fauth%2fdocs.test%20https%3a%2f%2fwww.googleapis.com%2fauth%2fdrive%20https%3a%2f%2fwww.googleapis.com%2fauth%2fdrive.photos.readonly%20https%3a%2f%2fwww.googleapis.com%2fauth%2fpeopleapi.readonly\n",
            "\n",
            "Enter your authorization code:\n",
            "··········\n",
            "Mounted at /content/drive/\n"
          ],
          "name": "stdout"
        }
      ]
    },
    {
      "cell_type": "code",
      "metadata": {
        "id": "QWPn7TE8MEw-",
        "colab_type": "code",
        "outputId": "ae4e086c-6f92-4ca9-c62e-16fb366abe78",
        "colab": {
          "base_uri": "https://localhost:8080/",
          "height": 55
        }
      },
      "source": [
        "cd \"/content/drive//My Drive/NeuroAttention/speechmodeltutorial\""
      ],
      "execution_count": 2,
      "outputs": [
        {
          "output_type": "stream",
          "text": [
            "/content/drive/My Drive/NeuroAttention/speechmodeltutorial\n"
          ],
          "name": "stdout"
        }
      ]
    },
    {
      "cell_type": "markdown",
      "metadata": {
        "id": "Xm3SgvfVPsWR",
        "colab_type": "text"
      },
      "source": [
        "# Imports"
      ]
    },
    {
      "cell_type": "code",
      "metadata": {
        "id": "SXoKbrHlPu8X",
        "colab_type": "code",
        "colab": {}
      },
      "source": [
        "# Run this cell if your computer has a 'retina' display. It will make the figures look much nicer.\n",
        "%config InlineBackend.figure_format = 'retina'"
      ],
      "execution_count": 0,
      "outputs": []
    },
    {
      "cell_type": "code",
      "metadata": {
        "id": "6ZzVL2BmP9J9",
        "colab_type": "code",
        "colab": {}
      },
      "source": [
        "from matplotlib.pyplot import figure, cm\n",
        "import numpy as np\n",
        "import logging\n",
        "logging.basicConfig(level=logging.DEBUG)"
      ],
      "execution_count": 0,
      "outputs": []
    },
    {
      "cell_type": "code",
      "metadata": {
        "id": "uVP4_wLIQMNO",
        "colab_type": "code",
        "outputId": "cea8cbbd-ad64-440b-c938-97fc8aa35b6b",
        "colab": {
          "base_uri": "https://localhost:8080/",
          "height": 1000
        }
      },
      "source": [
        "!pip install transformers\n",
        "!pip install pytorch-pretrained-bert"
      ],
      "execution_count": 5,
      "outputs": [
        {
          "output_type": "stream",
          "text": [
            "Collecting transformers\n",
            "\u001b[?25l  Downloading https://files.pythonhosted.org/packages/a3/78/92cedda05552398352ed9784908b834ee32a0bd071a9b32de287327370b7/transformers-2.8.0-py3-none-any.whl (563kB)\n",
            "\r\u001b[K     |▋                               | 10kB 21.0MB/s eta 0:00:01\r\u001b[K     |█▏                              | 20kB 2.2MB/s eta 0:00:01\r\u001b[K     |█▊                              | 30kB 3.2MB/s eta 0:00:01\r\u001b[K     |██▎                             | 40kB 2.1MB/s eta 0:00:01\r\u001b[K     |███                             | 51kB 2.6MB/s eta 0:00:01\r\u001b[K     |███▌                            | 61kB 3.1MB/s eta 0:00:01\r\u001b[K     |████                            | 71kB 3.6MB/s eta 0:00:01\r\u001b[K     |████▋                           | 81kB 2.7MB/s eta 0:00:01\r\u001b[K     |█████▎                          | 92kB 3.1MB/s eta 0:00:01\r\u001b[K     |█████▉                          | 102kB 3.4MB/s eta 0:00:01\r\u001b[K     |██████▍                         | 112kB 3.4MB/s eta 0:00:01\r\u001b[K     |███████                         | 122kB 3.4MB/s eta 0:00:01\r\u001b[K     |███████▋                        | 133kB 3.4MB/s eta 0:00:01\r\u001b[K     |████████▏                       | 143kB 3.4MB/s eta 0:00:01\r\u001b[K     |████████▊                       | 153kB 3.4MB/s eta 0:00:01\r\u001b[K     |█████████▎                      | 163kB 3.4MB/s eta 0:00:01\r\u001b[K     |█████████▉                      | 174kB 3.4MB/s eta 0:00:01\r\u001b[K     |██████████▌                     | 184kB 3.4MB/s eta 0:00:01\r\u001b[K     |███████████                     | 194kB 3.4MB/s eta 0:00:01\r\u001b[K     |███████████▋                    | 204kB 3.4MB/s eta 0:00:01\r\u001b[K     |████████████▏                   | 215kB 3.4MB/s eta 0:00:01\r\u001b[K     |████████████▉                   | 225kB 3.4MB/s eta 0:00:01\r\u001b[K     |█████████████▍                  | 235kB 3.4MB/s eta 0:00:01\r\u001b[K     |██████████████                  | 245kB 3.4MB/s eta 0:00:01\r\u001b[K     |██████████████▌                 | 256kB 3.4MB/s eta 0:00:01\r\u001b[K     |███████████████▏                | 266kB 3.4MB/s eta 0:00:01\r\u001b[K     |███████████████▊                | 276kB 3.4MB/s eta 0:00:01\r\u001b[K     |████████████████▎               | 286kB 3.4MB/s eta 0:00:01\r\u001b[K     |████████████████▉               | 296kB 3.4MB/s eta 0:00:01\r\u001b[K     |█████████████████▍              | 307kB 3.4MB/s eta 0:00:01\r\u001b[K     |██████████████████              | 317kB 3.4MB/s eta 0:00:01\r\u001b[K     |██████████████████▋             | 327kB 3.4MB/s eta 0:00:01\r\u001b[K     |███████████████████▏            | 337kB 3.4MB/s eta 0:00:01\r\u001b[K     |███████████████████▊            | 348kB 3.4MB/s eta 0:00:01\r\u001b[K     |████████████████████▍           | 358kB 3.4MB/s eta 0:00:01\r\u001b[K     |█████████████████████           | 368kB 3.4MB/s eta 0:00:01\r\u001b[K     |█████████████████████▌          | 378kB 3.4MB/s eta 0:00:01\r\u001b[K     |██████████████████████          | 389kB 3.4MB/s eta 0:00:01\r\u001b[K     |██████████████████████▊         | 399kB 3.4MB/s eta 0:00:01\r\u001b[K     |███████████████████████▎        | 409kB 3.4MB/s eta 0:00:01\r\u001b[K     |███████████████████████▉        | 419kB 3.4MB/s eta 0:00:01\r\u001b[K     |████████████████████████▍       | 430kB 3.4MB/s eta 0:00:01\r\u001b[K     |█████████████████████████       | 440kB 3.4MB/s eta 0:00:01\r\u001b[K     |█████████████████████████▋      | 450kB 3.4MB/s eta 0:00:01\r\u001b[K     |██████████████████████████▏     | 460kB 3.4MB/s eta 0:00:01\r\u001b[K     |██████████████████████████▊     | 471kB 3.4MB/s eta 0:00:01\r\u001b[K     |███████████████████████████▎    | 481kB 3.4MB/s eta 0:00:01\r\u001b[K     |████████████████████████████    | 491kB 3.4MB/s eta 0:00:01\r\u001b[K     |████████████████████████████▌   | 501kB 3.4MB/s eta 0:00:01\r\u001b[K     |█████████████████████████████   | 512kB 3.4MB/s eta 0:00:01\r\u001b[K     |█████████████████████████████▋  | 522kB 3.4MB/s eta 0:00:01\r\u001b[K     |██████████████████████████████▎ | 532kB 3.4MB/s eta 0:00:01\r\u001b[K     |██████████████████████████████▉ | 542kB 3.4MB/s eta 0:00:01\r\u001b[K     |███████████████████████████████▍| 552kB 3.4MB/s eta 0:00:01\r\u001b[K     |████████████████████████████████| 563kB 3.4MB/s eta 0:00:01\r\u001b[K     |████████████████████████████████| 573kB 3.4MB/s \n",
            "\u001b[?25hRequirement already satisfied: requests in /usr/local/lib/python3.6/dist-packages (from transformers) (2.21.0)\n",
            "Collecting tokenizers==0.5.2\n",
            "\u001b[?25l  Downloading https://files.pythonhosted.org/packages/d1/3f/73c881ea4723e43c1e9acf317cf407fab3a278daab3a69c98dcac511c04f/tokenizers-0.5.2-cp36-cp36m-manylinux1_x86_64.whl (3.7MB)\n",
            "\u001b[K     |████████████████████████████████| 3.7MB 47.6MB/s \n",
            "\u001b[?25hRequirement already satisfied: regex!=2019.12.17 in /usr/local/lib/python3.6/dist-packages (from transformers) (2019.12.20)\n",
            "Collecting sentencepiece\n",
            "\u001b[?25l  Downloading https://files.pythonhosted.org/packages/74/f4/2d5214cbf13d06e7cb2c20d84115ca25b53ea76fa1f0ade0e3c9749de214/sentencepiece-0.1.85-cp36-cp36m-manylinux1_x86_64.whl (1.0MB)\n",
            "\u001b[K     |████████████████████████████████| 1.0MB 49.9MB/s \n",
            "\u001b[?25hRequirement already satisfied: boto3 in /usr/local/lib/python3.6/dist-packages (from transformers) (1.12.34)\n",
            "Collecting sacremoses\n",
            "\u001b[?25l  Downloading https://files.pythonhosted.org/packages/a6/b4/7a41d630547a4afd58143597d5a49e07bfd4c42914d8335b2a5657efc14b/sacremoses-0.0.38.tar.gz (860kB)\n",
            "\u001b[K     |████████████████████████████████| 870kB 51.4MB/s \n",
            "\u001b[?25hRequirement already satisfied: numpy in /usr/local/lib/python3.6/dist-packages (from transformers) (1.18.2)\n",
            "Requirement already satisfied: dataclasses; python_version < \"3.7\" in /usr/local/lib/python3.6/dist-packages (from transformers) (0.7)\n",
            "Requirement already satisfied: tqdm>=4.27 in /usr/local/lib/python3.6/dist-packages (from transformers) (4.38.0)\n",
            "Requirement already satisfied: filelock in /usr/local/lib/python3.6/dist-packages (from transformers) (3.0.12)\n",
            "Requirement already satisfied: idna<2.9,>=2.5 in /usr/local/lib/python3.6/dist-packages (from requests->transformers) (2.8)\n",
            "Requirement already satisfied: urllib3<1.25,>=1.21.1 in /usr/local/lib/python3.6/dist-packages (from requests->transformers) (1.24.3)\n",
            "Requirement already satisfied: certifi>=2017.4.17 in /usr/local/lib/python3.6/dist-packages (from requests->transformers) (2019.11.28)\n",
            "Requirement already satisfied: chardet<3.1.0,>=3.0.2 in /usr/local/lib/python3.6/dist-packages (from requests->transformers) (3.0.4)\n",
            "Requirement already satisfied: jmespath<1.0.0,>=0.7.1 in /usr/local/lib/python3.6/dist-packages (from boto3->transformers) (0.9.5)\n",
            "Requirement already satisfied: s3transfer<0.4.0,>=0.3.0 in /usr/local/lib/python3.6/dist-packages (from boto3->transformers) (0.3.3)\n",
            "Requirement already satisfied: botocore<1.16.0,>=1.15.34 in /usr/local/lib/python3.6/dist-packages (from boto3->transformers) (1.15.34)\n",
            "Requirement already satisfied: six in /usr/local/lib/python3.6/dist-packages (from sacremoses->transformers) (1.12.0)\n",
            "Requirement already satisfied: click in /usr/local/lib/python3.6/dist-packages (from sacremoses->transformers) (7.1.1)\n",
            "Requirement already satisfied: joblib in /usr/local/lib/python3.6/dist-packages (from sacremoses->transformers) (0.14.1)\n",
            "Requirement already satisfied: python-dateutil<3.0.0,>=2.1 in /usr/local/lib/python3.6/dist-packages (from botocore<1.16.0,>=1.15.34->boto3->transformers) (2.8.1)\n",
            "Requirement already satisfied: docutils<0.16,>=0.10 in /usr/local/lib/python3.6/dist-packages (from botocore<1.16.0,>=1.15.34->boto3->transformers) (0.15.2)\n",
            "Building wheels for collected packages: sacremoses\n",
            "  Building wheel for sacremoses (setup.py) ... \u001b[?25l\u001b[?25hdone\n",
            "  Created wheel for sacremoses: filename=sacremoses-0.0.38-cp36-none-any.whl size=884628 sha256=256e1918b357d09f816bff6872c10b0f68096b33b397e386fa22b446492b423f\n",
            "  Stored in directory: /root/.cache/pip/wheels/6d/ec/1a/21b8912e35e02741306f35f66c785f3afe94de754a0eaf1422\n",
            "Successfully built sacremoses\n",
            "Installing collected packages: tokenizers, sentencepiece, sacremoses, transformers\n",
            "Successfully installed sacremoses-0.0.38 sentencepiece-0.1.85 tokenizers-0.5.2 transformers-2.8.0\n",
            "Collecting pytorch-pretrained-bert\n",
            "\u001b[?25l  Downloading https://files.pythonhosted.org/packages/d7/e0/c08d5553b89973d9a240605b9c12404bcf8227590de62bae27acbcfe076b/pytorch_pretrained_bert-0.6.2-py3-none-any.whl (123kB)\n",
            "\u001b[K     |████████████████████████████████| 133kB 3.4MB/s \n",
            "\u001b[?25hRequirement already satisfied: numpy in /usr/local/lib/python3.6/dist-packages (from pytorch-pretrained-bert) (1.18.2)\n",
            "Requirement already satisfied: tqdm in /usr/local/lib/python3.6/dist-packages (from pytorch-pretrained-bert) (4.38.0)\n",
            "Requirement already satisfied: torch>=0.4.1 in /usr/local/lib/python3.6/dist-packages (from pytorch-pretrained-bert) (1.4.0)\n",
            "Requirement already satisfied: requests in /usr/local/lib/python3.6/dist-packages (from pytorch-pretrained-bert) (2.21.0)\n",
            "Requirement already satisfied: regex in /usr/local/lib/python3.6/dist-packages (from pytorch-pretrained-bert) (2019.12.20)\n",
            "Requirement already satisfied: boto3 in /usr/local/lib/python3.6/dist-packages (from pytorch-pretrained-bert) (1.12.34)\n",
            "Requirement already satisfied: certifi>=2017.4.17 in /usr/local/lib/python3.6/dist-packages (from requests->pytorch-pretrained-bert) (2019.11.28)\n",
            "Requirement already satisfied: idna<2.9,>=2.5 in /usr/local/lib/python3.6/dist-packages (from requests->pytorch-pretrained-bert) (2.8)\n",
            "Requirement already satisfied: chardet<3.1.0,>=3.0.2 in /usr/local/lib/python3.6/dist-packages (from requests->pytorch-pretrained-bert) (3.0.4)\n",
            "Requirement already satisfied: urllib3<1.25,>=1.21.1 in /usr/local/lib/python3.6/dist-packages (from requests->pytorch-pretrained-bert) (1.24.3)\n",
            "Requirement already satisfied: botocore<1.16.0,>=1.15.34 in /usr/local/lib/python3.6/dist-packages (from boto3->pytorch-pretrained-bert) (1.15.34)\n",
            "Requirement already satisfied: s3transfer<0.4.0,>=0.3.0 in /usr/local/lib/python3.6/dist-packages (from boto3->pytorch-pretrained-bert) (0.3.3)\n",
            "Requirement already satisfied: jmespath<1.0.0,>=0.7.1 in /usr/local/lib/python3.6/dist-packages (from boto3->pytorch-pretrained-bert) (0.9.5)\n",
            "Requirement already satisfied: python-dateutil<3.0.0,>=2.1 in /usr/local/lib/python3.6/dist-packages (from botocore<1.16.0,>=1.15.34->boto3->pytorch-pretrained-bert) (2.8.1)\n",
            "Requirement already satisfied: docutils<0.16,>=0.10 in /usr/local/lib/python3.6/dist-packages (from botocore<1.16.0,>=1.15.34->boto3->pytorch-pretrained-bert) (0.15.2)\n",
            "Requirement already satisfied: six>=1.5 in /usr/local/lib/python3.6/dist-packages (from python-dateutil<3.0.0,>=2.1->botocore<1.16.0,>=1.15.34->boto3->pytorch-pretrained-bert) (1.12.0)\n",
            "Installing collected packages: pytorch-pretrained-bert\n",
            "Successfully installed pytorch-pretrained-bert-0.6.2\n"
          ],
          "name": "stdout"
        }
      ]
    },
    {
      "cell_type": "code",
      "metadata": {
        "id": "r1GKjGAoQTy4",
        "colab_type": "code",
        "outputId": "40450e5f-9f9b-4a54-99cd-926ccfdea86f",
        "colab": {
          "base_uri": "https://localhost:8080/",
          "height": 108
        }
      },
      "source": [
        "import torchvision.datasets as dset\n",
        "import torchvision.transforms as transforms\n",
        "import torch\n",
        "\n",
        "from pytorch_pretrained_bert import BertTokenizer, BertModel, BertForMaskedLM\n",
        "import transformers as ppb # pytorch transformers"
      ],
      "execution_count": 6,
      "outputs": [
        {
          "output_type": "stream",
          "text": [
            "INFO:pytorch_pretrained_bert.modeling:Better speed can be achieved with apex installed from https://www.github.com/nvidia/apex .\n",
            "INFO:transformers.file_utils:PyTorch version 1.4.0 available.\n",
            "DEBUG:tensorflow:Falling back to TensorFlow client; we recommended you install the Cloud TPU client directly with pip install cloud-tpu-client.\n",
            "INFO:transformers.file_utils:TensorFlow version 2.2.0-rc2 available.\n"
          ],
          "name": "stderr"
        }
      ]
    },
    {
      "cell_type": "code",
      "metadata": {
        "id": "ZEWcDQk2RElV",
        "colab_type": "code",
        "colab": {}
      },
      "source": [
        "# !git clone https://github.com/HuthLab/speechmodeltutorial"
      ],
      "execution_count": 0,
      "outputs": []
    },
    {
      "cell_type": "code",
      "metadata": {
        "id": "GW0kTSbK44yX",
        "colab_type": "code",
        "outputId": "e02d21a8-ab5a-4b14-f8b6-a68080c65da7",
        "colab": {
          "base_uri": "https://localhost:8080/",
          "height": 55
        }
      },
      "source": [
        "!git clone https://github.com/gallantlab/pycortex.git"
      ],
      "execution_count": 8,
      "outputs": [
        {
          "output_type": "stream",
          "text": [
            "fatal: destination path 'pycortex' already exists and is not an empty directory.\n"
          ],
          "name": "stdout"
        }
      ]
    },
    {
      "cell_type": "code",
      "metadata": {
        "id": "PxROKKPy5S3K",
        "colab_type": "code",
        "outputId": "066f4a70-39bc-416c-c643-0a2a4472d3ee",
        "colab": {
          "base_uri": "https://localhost:8080/",
          "height": 55
        }
      },
      "source": [
        "cd pycortex"
      ],
      "execution_count": 9,
      "outputs": [
        {
          "output_type": "stream",
          "text": [
            "/content/drive/My Drive/NeuroAttention/speechmodeltutorial/pycortex\n"
          ],
          "name": "stdout"
        }
      ]
    },
    {
      "cell_type": "code",
      "metadata": {
        "id": "i4spPu4l5X5x",
        "colab_type": "code",
        "outputId": "8271e5eb-c800-4d5e-fd52-dd786eb4ce97",
        "colab": {
          "base_uri": "https://localhost:8080/",
          "height": 1000
        }
      },
      "source": [
        "!python setup.py install"
      ],
      "execution_count": 0,
      "outputs": [
        {
          "output_type": "stream",
          "text": [
            "Compiling cortex/openctm.pyx because it depends on /usr/local/lib/python3.6/dist-packages/Cython/Includes/numpy/__init__.pxd.\n",
            "Compiling cortex/formats.pyx because it depends on /usr/local/lib/python3.6/dist-packages/Cython/Includes/numpy/__init__.pxd.\n",
            "[1/2] Cythonizing cortex/formats.pyx\n",
            "/usr/local/lib/python3.6/dist-packages/Cython/Compiler/Main.py:369: FutureWarning: Cython directive 'language_level' not set, using 2 for now (Py2). This will change in a later release! File: /content/drive/My Drive/NeuroAttention/speechmodeltutorial/pycortex/cortex/formats.pyx\n",
            "  tree = Parsing.p_module(s, pxd, full_module_name)\n",
            "warning: cortex/formats.pyx:114:14: Non-trivial type declarators in shared declaration (e.g. mix of pointers and values). Each pointer declaration should be on its own line.\n",
            "warning: cortex/formats.pyx:114:28: Non-trivial type declarators in shared declaration (e.g. mix of pointers and values). Each pointer declaration should be on its own line.\n",
            "[2/2] Cythonizing cortex/openctm.pyx\n",
            "/usr/local/lib/python3.6/dist-packages/Cython/Compiler/Main.py:369: FutureWarning: Cython directive 'language_level' not set, using 2 for now (Py2). This will change in a later release! File: /content/drive/My Drive/NeuroAttention/speechmodeltutorial/pycortex/cortex/openctm.pxd\n",
            "  tree = Parsing.p_module(s, pxd, full_module_name)\n",
            "\u001b[39mrunning install\u001b[0m\n",
            "\u001b[39mrunning build\u001b[0m\n",
            "\u001b[39mrunning build_py\u001b[0m\n",
            "\u001b[31mpackage init file 'cortex/tests/__init__.py' not found (or not a regular file)\u001b[0m\n",
            "\u001b[39mrunning egg_info\u001b[0m\n",
            "\u001b[39mwriting pycortex.egg-info/PKG-INFO\u001b[0m\n",
            "\u001b[39mwriting dependency_links to pycortex.egg-info/dependency_links.txt\u001b[0m\n",
            "\u001b[39mwriting requirements to pycortex.egg-info/requires.txt\u001b[0m\n",
            "\u001b[39mwriting top-level names to pycortex.egg-info/top_level.txt\u001b[0m\n",
            "\u001b[39mreading manifest template 'MANIFEST.in'\u001b[0m\n",
            "\u001b[39mwriting manifest file 'pycortex.egg-info/SOURCES.txt'\u001b[0m\n",
            "\u001b[39mcopying cortex/formats.c -> build/lib.linux-x86_64-3.6/cortex\u001b[0m\n",
            "\u001b[39mcopying cortex/openctm.c -> build/lib.linux-x86_64-3.6/cortex\u001b[0m\n",
            "\u001b[39mrunning build_ext\u001b[0m\n",
            "\u001b[39mbuilding 'cortex.openctm' extension\u001b[0m\n",
            "\u001b[39mWarning: Can't read registry to find the necessary compiler setting\n",
            "Make sure that Python modules winreg, win32api or win32con are installed.\u001b[0m\n",
            "\u001b[39mC compiler: x86_64-linux-gnu-gcc -pthread -DNDEBUG -g -fwrapv -O2 -Wall -g -fstack-protector-strong -Wformat -Werror=format-security -Wdate-time -D_FORTIFY_SOURCE=2 -fPIC\n",
            "\u001b[0m\n",
            "\u001b[39mcompile options: '-DLZMA_PREFIX_CTM -DOPENCTM_BUILD -IOpenCTM-1.0.3/lib/ -IOpenCTM-1.0.3/lib/liblzma/ -I/usr/local/lib/python3.6/dist-packages/numpy/core/include -I/usr/include/python3.6m -c'\u001b[0m\n",
            "\u001b[39mx86_64-linux-gnu-gcc: cortex/openctm.c\u001b[0m\n",
            "\u001b[39mx86_64-linux-gnu-gcc: OpenCTM-1.0.3/lib/stream.c\u001b[0m\n",
            "In file included from \u001b[01m\u001b[K/usr/local/lib/python3.6/dist-packages/numpy/core/include/numpy/ndarraytypes.h:1832:0\u001b[m\u001b[K,\n",
            "                 from \u001b[01m\u001b[K/usr/local/lib/python3.6/dist-packages/numpy/core/include/numpy/ndarrayobject.h:12\u001b[m\u001b[K,\n",
            "                 from \u001b[01m\u001b[K/usr/local/lib/python3.6/dist-packages/numpy/core/include/numpy/arrayobject.h:4\u001b[m\u001b[K,\n",
            "                 from \u001b[01m\u001b[Kcortex/openctm.c:646\u001b[m\u001b[K:\n",
            "\u001b[01m\u001b[K/usr/local/lib/python3.6/dist-packages/numpy/core/include/numpy/npy_1_7_deprecated_api.h:17:2:\u001b[m\u001b[K \u001b[01;35m\u001b[Kwarning: \u001b[m\u001b[K#warning \"Using deprecated NumPy API, disable it with \" \"#define NPY_NO_DEPRECATED_API NPY_1_7_API_VERSION\" [\u001b[01;35m\u001b[K-Wcpp\u001b[m\u001b[K]\n",
            " #\u001b[01;35m\u001b[Kwarning\u001b[m\u001b[K \"Using deprecated NumPy API, disable it with \" \\\n",
            "  \u001b[01;35m\u001b[K^~~~~~~\u001b[m\u001b[K\n",
            "\u001b[01m\u001b[Kcortex/openctm.c:\u001b[m\u001b[K In function ‘\u001b[01m\u001b[K__pyx_pf_6cortex_7openctm_7CTMfile___cinit__\u001b[m\u001b[K’:\n",
            "\u001b[01m\u001b[Kcortex/openctm.c:2361:20:\u001b[m\u001b[K \u001b[01;35m\u001b[Kwarning: \u001b[m\u001b[Kassignment discards ‘\u001b[01m\u001b[Kconst\u001b[m\u001b[K’ qualifier from pointer target type [\u001b[01;35m\u001b[K-Wdiscarded-qualifiers\u001b[m\u001b[K]\n",
            "       __pyx_v_name \u001b[01;35m\u001b[K=\u001b[m\u001b[K ctmGetUVMapString(__pyx_v_self->ctx, __pyx_t_9, CTM_NAME);\n",
            "                    \u001b[01;35m\u001b[K^\u001b[m\u001b[K\n",
            "\u001b[01m\u001b[Kcortex/openctm.c:2462:20:\u001b[m\u001b[K \u001b[01;35m\u001b[Kwarning: \u001b[m\u001b[Kassignment discards ‘\u001b[01m\u001b[Kconst\u001b[m\u001b[K’ qualifier from pointer target type [\u001b[01;35m\u001b[K-Wdiscarded-qualifiers\u001b[m\u001b[K]\n",
            "       __pyx_v_name \u001b[01;35m\u001b[K=\u001b[m\u001b[K ctmGetAttribMapString(__pyx_v_self->ctx, __pyx_t_9, CTM_NAME);\n",
            "                    \u001b[01;35m\u001b[K^\u001b[m\u001b[K\n",
            "\u001b[01m\u001b[Kcortex/openctm.c:\u001b[m\u001b[K In function ‘\u001b[01m\u001b[K__pyx_pf_6cortex_7openctm_7CTMfile_12getMesh\u001b[m\u001b[K’:\n",
            "\u001b[01m\u001b[Kcortex/openctm.c:4108:16:\u001b[m\u001b[K \u001b[01;35m\u001b[Kwarning: \u001b[m\u001b[Kassignment discards ‘\u001b[01m\u001b[Kconst\u001b[m\u001b[K’ qualifier from pointer target type [\u001b[01;35m\u001b[K-Wdiscarded-qualifiers\u001b[m\u001b[K]\n",
            "   __pyx_v_cpts \u001b[01;35m\u001b[K=\u001b[m\u001b[K ctmGetFloatArray(__pyx_v_self->ctx, CTM_VERTICES);\n",
            "                \u001b[01;35m\u001b[K^\u001b[m\u001b[K\n",
            "\u001b[01m\u001b[Kcortex/openctm.c:4117:18:\u001b[m\u001b[K \u001b[01;35m\u001b[Kwarning: \u001b[m\u001b[Kassignment discards ‘\u001b[01m\u001b[Kconst\u001b[m\u001b[K’ qualifier from pointer target type [\u001b[01;35m\u001b[K-Wdiscarded-qualifiers\u001b[m\u001b[K]\n",
            "   __pyx_v_cpolys \u001b[01;35m\u001b[K=\u001b[m\u001b[K ctmGetIntegerArray(__pyx_v_self->ctx, CTM_INDICES);\n",
            "                  \u001b[01;35m\u001b[K^\u001b[m\u001b[K\n",
            "\u001b[39mx86_64-linux-gnu-gcc: OpenCTM-1.0.3/lib/compressRAW.c\u001b[0m\n",
            "\u001b[39mx86_64-linux-gnu-gcc: OpenCTM-1.0.3/lib/compressMG1.c\u001b[0m\n",
            "\u001b[39mx86_64-linux-gnu-gcc: OpenCTM-1.0.3/lib/compressMG2.c\u001b[0m\n",
            "\u001b[39mx86_64-linux-gnu-gcc: OpenCTM-1.0.3/lib/openctm.c\u001b[0m\n",
            "\u001b[39mx86_64-linux-gnu-gcc: OpenCTM-1.0.3/lib/liblzma/Alloc.c\u001b[0m\n",
            "\u001b[39mx86_64-linux-gnu-gcc: OpenCTM-1.0.3/lib/liblzma/LzFind.c\u001b[0m\n",
            "\u001b[39mx86_64-linux-gnu-gcc: OpenCTM-1.0.3/lib/liblzma/LzmaDec.c\u001b[0m\n",
            "\u001b[39mx86_64-linux-gnu-gcc: OpenCTM-1.0.3/lib/liblzma/LzmaEnc.c\u001b[0m\n",
            "\u001b[39mx86_64-linux-gnu-gcc: OpenCTM-1.0.3/lib/liblzma/LzmaLib.c\u001b[0m\n",
            "\u001b[01m\u001b[KOpenCTM-1.0.3/lib/liblzma/LzmaEnc.c:\u001b[m\u001b[K In function ‘\u001b[01m\u001b[KLzmaEnc_Alloc\u001b[m\u001b[K’:\n",
            "\u001b[01m\u001b[KOpenCTM-1.0.3/lib/liblzma/LzmaEnc.c:1922:8:\u001b[m\u001b[K \u001b[01;35m\u001b[Kwarning: \u001b[m\u001b[Kvariable ‘\u001b[01m\u001b[KbtMode\u001b[m\u001b[K’ set but not used [\u001b[01;35m\u001b[K-Wunused-but-set-variable\u001b[m\u001b[K]\n",
            "   Bool \u001b[01;35m\u001b[KbtMode\u001b[m\u001b[K;\n",
            "        \u001b[01;35m\u001b[K^~~~~~\u001b[m\u001b[K\n",
            "\u001b[39mx86_64-linux-gnu-gcc -pthread -shared -Wl,-O1 -Wl,-Bsymbolic-functions -Wl,-Bsymbolic-functions -Wl,-z,relro -Wl,-Bsymbolic-functions -Wl,-z,relro -g -fstack-protector-strong -Wformat -Werror=format-security -Wdate-time -D_FORTIFY_SOURCE=2 build/temp.linux-x86_64-3.6/cortex/openctm.o build/temp.linux-x86_64-3.6/OpenCTM-1.0.3/lib/openctm.o build/temp.linux-x86_64-3.6/OpenCTM-1.0.3/lib/stream.o build/temp.linux-x86_64-3.6/OpenCTM-1.0.3/lib/compressRAW.o build/temp.linux-x86_64-3.6/OpenCTM-1.0.3/lib/compressMG1.o build/temp.linux-x86_64-3.6/OpenCTM-1.0.3/lib/compressMG2.o build/temp.linux-x86_64-3.6/OpenCTM-1.0.3/lib/liblzma/Alloc.o build/temp.linux-x86_64-3.6/OpenCTM-1.0.3/lib/liblzma/LzFind.o build/temp.linux-x86_64-3.6/OpenCTM-1.0.3/lib/liblzma/LzmaDec.o build/temp.linux-x86_64-3.6/OpenCTM-1.0.3/lib/liblzma/LzmaEnc.o build/temp.linux-x86_64-3.6/OpenCTM-1.0.3/lib/liblzma/LzmaLib.o -lm -o build/lib.linux-x86_64-3.6/cortex/openctm.cpython-36m-x86_64-linux-gnu.so\u001b[0m\n",
            "\u001b[39mbuilding 'cortex.formats' extension\u001b[0m\n",
            "\u001b[39mC compiler: x86_64-linux-gnu-gcc -pthread -DNDEBUG -g -fwrapv -O2 -Wall -g -fstack-protector-strong -Wformat -Werror=format-security -Wdate-time -D_FORTIFY_SOURCE=2 -fPIC\n",
            "\u001b[0m\n",
            "\u001b[39mcompile options: '-I/usr/local/lib/python3.6/dist-packages/numpy/core/include -I/usr/include/python3.6m -c'\u001b[0m\n",
            "\u001b[39mx86_64-linux-gnu-gcc: cortex/formats.c\u001b[0m\n",
            "In file included from \u001b[01m\u001b[K/usr/local/lib/python3.6/dist-packages/numpy/core/include/numpy/ndarraytypes.h:1832:0\u001b[m\u001b[K,\n",
            "                 from \u001b[01m\u001b[K/usr/local/lib/python3.6/dist-packages/numpy/core/include/numpy/ndarrayobject.h:12\u001b[m\u001b[K,\n",
            "                 from \u001b[01m\u001b[K/usr/local/lib/python3.6/dist-packages/numpy/core/include/numpy/arrayobject.h:4\u001b[m\u001b[K,\n",
            "                 from \u001b[01m\u001b[Kcortex/formats.c:619\u001b[m\u001b[K:\n",
            "\u001b[01m\u001b[K/usr/local/lib/python3.6/dist-packages/numpy/core/include/numpy/npy_1_7_deprecated_api.h:17:2:\u001b[m\u001b[K \u001b[01;35m\u001b[Kwarning: \u001b[m\u001b[K#warning \"Using deprecated NumPy API, disable it with \" \"#define NPY_NO_DEPRECATED_API NPY_1_7_API_VERSION\" [\u001b[01;35m\u001b[K-Wcpp\u001b[m\u001b[K]\n",
            " #\u001b[01;35m\u001b[Kwarning\u001b[m\u001b[K \"Using deprecated NumPy API, disable it with \" \\\n",
            "  \u001b[01;35m\u001b[K^~~~~~~\u001b[m\u001b[K\n",
            "\u001b[39mx86_64-linux-gnu-gcc -pthread -shared -Wl,-O1 -Wl,-Bsymbolic-functions -Wl,-Bsymbolic-functions -Wl,-z,relro -Wl,-Bsymbolic-functions -Wl,-z,relro -g -fstack-protector-strong -Wformat -Werror=format-security -Wdate-time -D_FORTIFY_SOURCE=2 build/temp.linux-x86_64-3.6/cortex/formats.o -o build/lib.linux-x86_64-3.6/cortex/formats.cpython-36m-x86_64-linux-gnu.so\u001b[0m\n",
            "\u001b[39mrunning install_lib\u001b[0m\n",
            "\u001b[39mcreating /usr/local/lib/python3.6/dist-packages/cortex\u001b[0m\n",
            "\u001b[39mcopying build/lib.linux-x86_64-3.6/cortex/brainctm.py -> /usr/local/lib/python3.6/dist-packages/cortex\u001b[0m\n",
            "\u001b[39mcopying build/lib.linux-x86_64-3.6/cortex/__init__.py -> /usr/local/lib/python3.6/dist-packages/cortex\u001b[0m\n",
            "\u001b[39mcopying build/lib.linux-x86_64-3.6/cortex/rois.py -> /usr/local/lib/python3.6/dist-packages/cortex\u001b[0m\n",
            "\u001b[39mcopying build/lib.linux-x86_64-3.6/cortex/openctm.pyx -> /usr/local/lib/python3.6/dist-packages/cortex\u001b[0m\n",
            "\u001b[39mcopying build/lib.linux-x86_64-3.6/cortex/openctm.pxd -> /usr/local/lib/python3.6/dist-packages/cortex\u001b[0m\n",
            "\u001b[39mcopying build/lib.linux-x86_64-3.6/cortex/mayavi_aligner.py -> /usr/local/lib/python3.6/dist-packages/cortex\u001b[0m\n",
            "\u001b[39mcopying build/lib.linux-x86_64-3.6/cortex/appdirs.py -> /usr/local/lib/python3.6/dist-packages/cortex\u001b[0m\n",
            "\u001b[39mcopying build/lib.linux-x86_64-3.6/cortex/align.py -> /usr/local/lib/python3.6/dist-packages/cortex\u001b[0m\n",
            "\u001b[39mcopying build/lib.linux-x86_64-3.6/cortex/formats.pyx -> /usr/local/lib/python3.6/dist-packages/cortex\u001b[0m\n",
            "\u001b[39mcopying build/lib.linux-x86_64-3.6/cortex/surfinfo.py -> /usr/local/lib/python3.6/dist-packages/cortex\u001b[0m\n",
            "\u001b[39mcopying build/lib.linux-x86_64-3.6/cortex/fmriprep.py -> /usr/local/lib/python3.6/dist-packages/cortex\u001b[0m\n",
            "\u001b[39mcopying build/lib.linux-x86_64-3.6/cortex/options.py -> /usr/local/lib/python3.6/dist-packages/cortex\u001b[0m\n",
            "\u001b[39mcopying build/lib.linux-x86_64-3.6/cortex/defaults.cfg -> /usr/local/lib/python3.6/dist-packages/cortex\u001b[0m\n",
            "\u001b[39mcopying build/lib.linux-x86_64-3.6/cortex/mni.py -> /usr/local/lib/python3.6/dist-packages/cortex\u001b[0m\n",
            "\u001b[39mcopying build/lib.linux-x86_64-3.6/cortex/formats_old.py -> /usr/local/lib/python3.6/dist-packages/cortex\u001b[0m\n",
            "\u001b[39mcopying build/lib.linux-x86_64-3.6/cortex/database.py -> /usr/local/lib/python3.6/dist-packages/cortex\u001b[0m\n",
            "\u001b[39mcopying build/lib.linux-x86_64-3.6/cortex/svgoverlay.py -> /usr/local/lib/python3.6/dist-packages/cortex\u001b[0m\n",
            "\u001b[39mcopying build/lib.linux-x86_64-3.6/cortex/segment.py -> /usr/local/lib/python3.6/dist-packages/cortex\u001b[0m\n",
            "\u001b[39mcopying build/lib.linux-x86_64-3.6/cortex/anat.py -> /usr/local/lib/python3.6/dist-packages/cortex\u001b[0m\n",
            "\u001b[39mcopying build/lib.linux-x86_64-3.6/cortex/freesurfer.py -> /usr/local/lib/python3.6/dist-packages/cortex\u001b[0m\n",
            "\u001b[39mcopying build/lib.linux-x86_64-3.6/cortex/svgbase.xml -> /usr/local/lib/python3.6/dist-packages/cortex\u001b[0m\n",
            "\u001b[39mcopying build/lib.linux-x86_64-3.6/cortex/utils.py -> /usr/local/lib/python3.6/dist-packages/cortex\u001b[0m\n",
            "\u001b[39mcopying build/lib.linux-x86_64-3.6/cortex/volume.py -> /usr/local/lib/python3.6/dist-packages/cortex\u001b[0m\n",
            "\u001b[39mcopying build/lib.linux-x86_64-3.6/cortex/mp.py -> /usr/local/lib/python3.6/dist-packages/cortex\u001b[0m\n",
            "\u001b[39mcopying build/lib.linux-x86_64-3.6/cortex/bbr.sch -> /usr/local/lib/python3.6/dist-packages/cortex\u001b[0m\n",
            "\u001b[39mcopying build/lib.linux-x86_64-3.6/cortex/xfm.py -> /usr/local/lib/python3.6/dist-packages/cortex\u001b[0m\n",
            "\u001b[39mcreating /usr/local/lib/python3.6/dist-packages/cortex/webgl\u001b[0m\n",
            "\u001b[39mcopying build/lib.linux-x86_64-3.6/cortex/webgl/data.py -> /usr/local/lib/python3.6/dist-packages/cortex/webgl\u001b[0m\n",
            "\u001b[39mcopying build/lib.linux-x86_64-3.6/cortex/webgl/mixer.html -> /usr/local/lib/python3.6/dist-packages/cortex/webgl\u001b[0m\n",
            "\u001b[39mcopying build/lib.linux-x86_64-3.6/cortex/webgl/demo.html -> /usr/local/lib/python3.6/dist-packages/cortex/webgl\u001b[0m\n",
            "\u001b[39mcopying build/lib.linux-x86_64-3.6/cortex/webgl/htmlembed.py -> /usr/local/lib/python3.6/dist-packages/cortex/webgl\u001b[0m\n",
            "\u001b[39mcopying build/lib.linux-x86_64-3.6/cortex/webgl/FallbackLoader.py -> /usr/local/lib/python3.6/dist-packages/cortex/webgl\u001b[0m\n",
            "\u001b[39mcopying build/lib.linux-x86_64-3.6/cortex/webgl/explo_demo.html -> /usr/local/lib/python3.6/dist-packages/cortex/webgl\u001b[0m\n",
            "\u001b[39mcopying build/lib.linux-x86_64-3.6/cortex/webgl/__init__.py -> /usr/local/lib/python3.6/dist-packages/cortex/webgl\u001b[0m\n",
            "\u001b[39mcopying build/lib.linux-x86_64-3.6/cortex/webgl/favicon.ico -> /usr/local/lib/python3.6/dist-packages/cortex/webgl\u001b[0m\n",
            "\u001b[39mcopying build/lib.linux-x86_64-3.6/cortex/webgl/public.html -> /usr/local/lib/python3.6/dist-packages/cortex/webgl\u001b[0m\n",
            "\u001b[39mcopying build/lib.linux-x86_64-3.6/cortex/webgl/static.html -> /usr/local/lib/python3.6/dist-packages/cortex/webgl\u001b[0m\n",
            "\u001b[39mcopying build/lib.linux-x86_64-3.6/cortex/webgl/wngraph.html -> /usr/local/lib/python3.6/dist-packages/cortex/webgl\u001b[0m\n",
            "\u001b[39mcopying build/lib.linux-x86_64-3.6/cortex/webgl/template.html -> /usr/local/lib/python3.6/dist-packages/cortex/webgl\u001b[0m\n",
            "\u001b[39mcopying build/lib.linux-x86_64-3.6/cortex/webgl/wngraph-minimal.html -> /usr/local/lib/python3.6/dist-packages/cortex/webgl\u001b[0m\n",
            "\u001b[39mcopying build/lib.linux-x86_64-3.6/cortex/webgl/wngraph-labeled.svg -> /usr/local/lib/python3.6/dist-packages/cortex/webgl\u001b[0m\n",
            "\u001b[39mcopying build/lib.linux-x86_64-3.6/cortex/webgl/view.py -> /usr/local/lib/python3.6/dist-packages/cortex/webgl\u001b[0m\n",
            "\u001b[39mcopying build/lib.linux-x86_64-3.6/cortex/webgl/serve.py -> /usr/local/lib/python3.6/dist-packages/cortex/webgl\u001b[0m\n",
            "\u001b[39mcopying build/lib.linux-x86_64-3.6/cortex/webgl/simple.html -> /usr/local/lib/python3.6/dist-packages/cortex/webgl\u001b[0m\n",
            "\u001b[39mcopying build/lib.linux-x86_64-3.6/cortex/webgl/wngraph.svg -> /usr/local/lib/python3.6/dist-packages/cortex/webgl\u001b[0m\n",
            "\u001b[39mcreating /usr/local/lib/python3.6/dist-packages/cortex/webgl/resources\u001b[0m\n",
            "\u001b[39mcreating /usr/local/lib/python3.6/dist-packages/cortex/webgl/resources/css\u001b[0m\n",
            "\u001b[39mcopying build/lib.linux-x86_64-3.6/cortex/webgl/resources/css/demo.css -> /usr/local/lib/python3.6/dist-packages/cortex/webgl/resources/css\u001b[0m\n",
            "\u001b[39mcopying build/lib.linux-x86_64-3.6/cortex/webgl/resources/css/mriview.css -> /usr/local/lib/python3.6/dist-packages/cortex/webgl/resources/css\u001b[0m\n",
            "\u001b[39mcopying build/lib.linux-x86_64-3.6/cortex/webgl/resources/css/jsplot.css -> /usr/local/lib/python3.6/dist-packages/cortex/webgl/resources/css\u001b[0m\n",
            "\u001b[39mcopying build/lib.linux-x86_64-3.6/cortex/webgl/resources/css/jquery.miniColors.css -> /usr/local/lib/python3.6/dist-packages/cortex/webgl/resources/css\u001b[0m\n",
            "\u001b[39mcopying build/lib.linux-x86_64-3.6/cortex/webgl/resources/css/w2ui-1.4.2.min.css -> /usr/local/lib/python3.6/dist-packages/cortex/webgl/resources/css\u001b[0m\n",
            "\u001b[39mcopying build/lib.linux-x86_64-3.6/cortex/webgl/resources/css/w2ui-1.2.min.css -> /usr/local/lib/python3.6/dist-packages/cortex/webgl/resources/css\u001b[0m\n",
            "\u001b[39mcopying build/lib.linux-x86_64-3.6/cortex/webgl/resources/css/w2ui-1.4.2.css -> /usr/local/lib/python3.6/dist-packages/cortex/webgl/resources/css\u001b[0m\n",
            "\u001b[39mcopying build/lib.linux-x86_64-3.6/cortex/webgl/resources/css/jquery-ui.min.css -> /usr/local/lib/python3.6/dist-packages/cortex/webgl/resources/css\u001b[0m\n",
            "\u001b[39mcopying build/lib.linux-x86_64-3.6/cortex/webgl/resources/css/select2-4.0.3.min.css -> /usr/local/lib/python3.6/dist-packages/cortex/webgl/resources/css\u001b[0m\n",
            "\u001b[39mcreating /usr/local/lib/python3.6/dist-packages/cortex/webgl/resources/css/images\u001b[0m\n",
            "\u001b[39mcopying build/lib.linux-x86_64-3.6/cortex/webgl/resources/css/images/loading.gif -> /usr/local/lib/python3.6/dist-packages/cortex/webgl/resources/css/images\u001b[0m\n",
            "\u001b[39mcopying build/lib.linux-x86_64-3.6/cortex/webgl/resources/css/images/ui-icons_222222_256x240.png -> /usr/local/lib/python3.6/dist-packages/cortex/webgl/resources/css/images\u001b[0m\n",
            "\u001b[39mcopying build/lib.linux-x86_64-3.6/cortex/webgl/resources/css/images/trigger.png -> /usr/local/lib/python3.6/dist-packages/cortex/webgl/resources/css/images\u001b[0m\n",
            "\u001b[39mcopying build/lib.linux-x86_64-3.6/cortex/webgl/resources/css/images/control-pause.png -> /usr/local/lib/python3.6/dist-packages/cortex/webgl/resources/css/images\u001b[0m\n",
            "\u001b[39mcopying build/lib.linux-x86_64-3.6/cortex/webgl/resources/css/images/ui-bg_flat_10_000000_40x100.png -> /usr/local/lib/python3.6/dist-packages/cortex/webgl/resources/css/images\u001b[0m\n",
            "\u001b[39mcopying build/lib.linux-x86_64-3.6/cortex/webgl/resources/css/images/ui-bg_glass_65_ffffff_1x400.png -> /usr/local/lib/python3.6/dist-packages/cortex/webgl/resources/css/images\u001b[0m\n",
            "\u001b[39mcopying build/lib.linux-x86_64-3.6/cortex/webgl/resources/css/images/magnifying_glass.png -> /usr/local/lib/python3.6/dist-packages/cortex/webgl/resources/css/images\u001b[0m\n",
            "\u001b[39mcopying build/lib.linux-x86_64-3.6/cortex/webgl/resources/css/images/control-play.png -> /usr/local/lib/python3.6/dist-packages/cortex/webgl/resources/css/images\u001b[0m\n",
            "\u001b[39mcopying build/lib.linux-x86_64-3.6/cortex/webgl/resources/css/images/ui-icons_ffffff_256x240.png -> /usr/local/lib/python3.6/dist-packages/cortex/webgl/resources/css/images\u001b[0m\n",
            "\u001b[39mcopying build/lib.linux-x86_64-3.6/cortex/webgl/resources/css/images/ui-bg_diagonals-thick_18_b81900_40x40.png -> /usr/local/lib/python3.6/dist-packages/cortex/webgl/resources/css/images\u001b[0m\n",
            "\u001b[39mcopying build/lib.linux-x86_64-3.6/cortex/webgl/resources/css/images/ui-bg_gloss-wave_35_f6a828_500x100.png -> /usr/local/lib/python3.6/dist-packages/cortex/webgl/resources/css/images\u001b[0m\n",
            "\u001b[39mcopying build/lib.linux-x86_64-3.6/cortex/webgl/resources/css/images/colors.png -> /usr/local/lib/python3.6/dist-packages/cortex/webgl/resources/css/images\u001b[0m\n",
            "\u001b[39mcopying build/lib.linux-x86_64-3.6/cortex/webgl/resources/css/images/ui-icons_ffd27a_256x240.png -> /usr/local/lib/python3.6/dist-packages/cortex/webgl/resources/css/images\u001b[0m\n",
            "\u001b[39mcopying build/lib.linux-x86_64-3.6/cortex/webgl/resources/css/images/ui-icons_228ef1_256x240.png -> /usr/local/lib/python3.6/dist-packages/cortex/webgl/resources/css/images\u001b[0m\n",
            "\u001b[39mcopying build/lib.linux-x86_64-3.6/cortex/webgl/resources/css/images/ui-bg_glass_100_f6f6f6_1x400.png -> /usr/local/lib/python3.6/dist-packages/cortex/webgl/resources/css/images\u001b[0m\n",
            "\u001b[39mcopying build/lib.linux-x86_64-3.6/cortex/webgl/resources/css/images/ui-bg_glass_100_fdf5ce_1x400.png -> /usr/local/lib/python3.6/dist-packages/cortex/webgl/resources/css/images\u001b[0m\n",
            "\u001b[39mcopying build/lib.linux-x86_64-3.6/cortex/webgl/resources/css/images/ui-icons_ef8c08_256x240.png -> /usr/local/lib/python3.6/dist-packages/cortex/webgl/resources/css/images\u001b[0m\n",
            "\u001b[39mcopying build/lib.linux-x86_64-3.6/cortex/webgl/resources/css/images/ui-bg_highlight-soft_75_ffe45c_1x100.png -> /usr/local/lib/python3.6/dist-packages/cortex/webgl/resources/css/images\u001b[0m\n",
            "\u001b[39mcopying build/lib.linux-x86_64-3.6/cortex/webgl/resources/css/images/ui-bg_highlight-soft_100_eeeeee_1x100.png -> /usr/local/lib/python3.6/dist-packages/cortex/webgl/resources/css/images\u001b[0m\n",
            "\u001b[39mcopying build/lib.linux-x86_64-3.6/cortex/webgl/resources/css/images/ui-bg_diagonals-thick_20_666666_40x40.png -> /usr/local/lib/python3.6/dist-packages/cortex/webgl/resources/css/images\u001b[0m\n",
            "\u001b[39mcreating /usr/local/lib/python3.6/dist-packages/cortex/webgl/resources/explo_demo\u001b[0m\n",
            "\u001b[39mcopying build/lib.linux-x86_64-3.6/cortex/webgl/resources/explo_demo/flatten_1.svg -> /usr/local/lib/python3.6/dist-packages/cortex/webgl/resources/explo_demo\u001b[0m\n",
            "\u001b[39mcopying build/lib.linux-x86_64-3.6/cortex/webgl/resources/explo_demo/intro.svg -> /usr/local/lib/python3.6/dist-packages/cortex/webgl/resources/explo_demo\u001b[0m\n",
            "\u001b[39mcopying build/lib.linux-x86_64-3.6/cortex/webgl/resources/explo_demo/intro.js -> /usr/local/lib/python3.6/dist-packages/cortex/webgl/resources/explo_demo\u001b[0m\n",
            "\u001b[39mcopying build/lib.linux-x86_64-3.6/cortex/webgl/resources/explo_demo/swipe_right.svg -> /usr/local/lib/python3.6/dist-packages/cortex/webgl/resources/explo_demo\u001b[0m\n",
            "\u001b[39mcopying build/lib.linux-x86_64-3.6/cortex/webgl/resources/explo_demo/zoom_2.svg -> /usr/local/lib/python3.6/dist-packages/cortex/webgl/resources/explo_demo\u001b[0m\n",
            "\u001b[39mcopying build/lib.linux-x86_64-3.6/cortex/webgl/resources/explo_demo/demo.js -> /usr/local/lib/python3.6/dist-packages/cortex/webgl/resources/explo_demo\u001b[0m\n",
            "\u001b[39mcopying build/lib.linux-x86_64-3.6/cortex/webgl/resources/explo_demo/flatten_2.svg -> /usr/local/lib/python3.6/dist-packages/cortex/webgl/resources/explo_demo\u001b[0m\n",
            "\u001b[39mcopying build/lib.linux-x86_64-3.6/cortex/webgl/resources/explo_demo/rotate_1.svg -> /usr/local/lib/python3.6/dist-packages/cortex/webgl/resources/explo_demo\u001b[0m\n",
            "\u001b[39mcopying build/lib.linux-x86_64-3.6/cortex/webgl/resources/explo_demo/cursor.png -> /usr/local/lib/python3.6/dist-packages/cortex/webgl/resources/explo_demo\u001b[0m\n",
            "\u001b[39mcopying build/lib.linux-x86_64-3.6/cortex/webgl/resources/explo_demo/swipe_left.svg -> /usr/local/lib/python3.6/dist-packages/cortex/webgl/resources/explo_demo\u001b[0m\n",
            "\u001b[39mcopying build/lib.linux-x86_64-3.6/cortex/webgl/resources/explo_demo/rotate_2.svg -> /usr/local/lib/python3.6/dist-packages/cortex/webgl/resources/explo_demo\u001b[0m\n",
            "\u001b[39mcopying build/lib.linux-x86_64-3.6/cortex/webgl/resources/explo_demo/zoom_1.svg -> /usr/local/lib/python3.6/dist-packages/cortex/webgl/resources/explo_demo\u001b[0m\n",
            "\u001b[39mcreating /usr/local/lib/python3.6/dist-packages/cortex/webgl/resources/js\u001b[0m\n",
            "\u001b[39mcopying build/lib.linux-x86_64-3.6/cortex/webgl/resources/js/jquery.miniColors.js -> /usr/local/lib/python3.6/dist-packages/cortex/webgl/resources/js\u001b[0m\n",
            "\u001b[39mcopying build/lib.linux-x86_64-3.6/cortex/webgl/resources/js/svgoverlay.js -> /usr/local/lib/python3.6/dist-packages/cortex/webgl/resources/js\u001b[0m\n",
            "\u001b[39mcopying build/lib.linux-x86_64-3.6/cortex/webgl/resources/js/surfgeometry.js -> /usr/local/lib/python3.6/dist-packages/cortex/webgl/resources/js\u001b[0m\n",
            "\u001b[39mcopying build/lib.linux-x86_64-3.6/cortex/webgl/resources/js/jquery.svganim.min.js -> /usr/local/lib/python3.6/dist-packages/cortex/webgl/resources/js\u001b[0m\n",
            "\u001b[39mcopying build/lib.linux-x86_64-3.6/cortex/webgl/resources/js/jquery.ui.touch-punch.min.js -> /usr/local/lib/python3.6/dist-packages/cortex/webgl/resources/js\u001b[0m\n",
            "\u001b[39mcopying build/lib.linux-x86_64-3.6/cortex/webgl/resources/js/OculusRiftEffect.js -> /usr/local/lib/python3.6/dist-packages/cortex/webgl/resources/js\u001b[0m\n",
            "\u001b[39mcopying build/lib.linux-x86_64-3.6/cortex/webgl/resources/js/rgbcolor.js -> /usr/local/lib/python3.6/dist-packages/cortex/webgl/resources/js\u001b[0m\n",
            "\u001b[39mcopying build/lib.linux-x86_64-3.6/cortex/webgl/resources/js/datamodel.js -> /usr/local/lib/python3.6/dist-packages/cortex/webgl/resources/js\u001b[0m\n",
            "\u001b[39mcopying build/lib.linux-x86_64-3.6/cortex/webgl/resources/js/facepick_worker.js -> /usr/local/lib/python3.6/dist-packages/cortex/webgl/resources/js\u001b[0m\n",
            "\u001b[39mcopying build/lib.linux-x86_64-3.6/cortex/webgl/resources/js/jgestures.min.js -> /usr/local/lib/python3.6/dist-packages/cortex/webgl/resources/js\u001b[0m\n",
            "\u001b[39mcopying build/lib.linux-x86_64-3.6/cortex/webgl/resources/js/graphview.js -> /usr/local/lib/python3.6/dist-packages/cortex/webgl/resources/js\u001b[0m\n",
            "\u001b[39mcopying build/lib.linux-x86_64-3.6/cortex/webgl/resources/js/jquery.ddslick.min.js -> /usr/local/lib/python3.6/dist-packages/cortex/webgl/resources/js\u001b[0m\n",
            "\u001b[39mcopying build/lib.linux-x86_64-3.6/cortex/webgl/resources/js/movement.js -> /usr/local/lib/python3.6/dist-packages/cortex/webgl/resources/js\u001b[0m\n",
            "\u001b[39mcopying build/lib.linux-x86_64-3.6/cortex/webgl/resources/js/surfload.js -> /usr/local/lib/python3.6/dist-packages/cortex/webgl/resources/js\u001b[0m\n",
            "\u001b[39mcopying build/lib.linux-x86_64-3.6/cortex/webgl/resources/js/kdTree-min.js -> /usr/local/lib/python3.6/dist-packages/cortex/webgl/resources/js\u001b[0m\n",
            "\u001b[39mcopying build/lib.linux-x86_64-3.6/cortex/webgl/resources/js/LandscapeControls.js -> /usr/local/lib/python3.6/dist-packages/cortex/webgl/resources/js\u001b[0m\n",
            "\u001b[39mcopying build/lib.linux-x86_64-3.6/cortex/webgl/resources/js/jquery-2.1.1.min.js -> /usr/local/lib/python3.6/dist-packages/cortex/webgl/resources/js\u001b[0m\n",
            "\u001b[39mcopying build/lib.linux-x86_64-3.6/cortex/webgl/resources/js/dataset.js -> /usr/local/lib/python3.6/dist-packages/cortex/webgl/resources/js\u001b[0m\n",
            "\u001b[39mcopying build/lib.linux-x86_64-3.6/cortex/webgl/resources/js/axes3d.js -> /usr/local/lib/python3.6/dist-packages/cortex/webgl/resources/js\u001b[0m\n",
            "\u001b[39mcopying build/lib.linux-x86_64-3.6/cortex/webgl/resources/js/facepick.js -> /usr/local/lib/python3.6/dist-packages/cortex/webgl/resources/js\u001b[0m\n",
            "\u001b[39mcopying build/lib.linux-x86_64-3.6/cortex/webgl/resources/js/jquery.svg.min.js -> /usr/local/lib/python3.6/dist-packages/cortex/webgl/resources/js\u001b[0m\n",
            "\u001b[39mcopying build/lib.linux-x86_64-3.6/cortex/webgl/resources/js/svg_todataurl.js -> /usr/local/lib/python3.6/dist-packages/cortex/webgl/resources/js\u001b[0m\n",
            "\u001b[39mcopying build/lib.linux-x86_64-3.6/cortex/webgl/resources/js/dat.gui.min.js -> /usr/local/lib/python3.6/dist-packages/cortex/webgl/resources/js\u001b[0m\n",
            "\u001b[39mcopying build/lib.linux-x86_64-3.6/cortex/webgl/resources/js/three.js -> /usr/local/lib/python3.6/dist-packages/cortex/webgl/resources/js\u001b[0m\n",
            "\u001b[39mcopying build/lib.linux-x86_64-3.6/cortex/webgl/resources/js/shadowtex.js -> /usr/local/lib/python3.6/dist-packages/cortex/webgl/resources/js\u001b[0m\n",
            "\u001b[39mcopying build/lib.linux-x86_64-3.6/cortex/webgl/resources/js/hoverintent.min.js -> /usr/local/lib/python3.6/dist-packages/cortex/webgl/resources/js\u001b[0m\n",
            "\u001b[39mcopying build/lib.linux-x86_64-3.6/cortex/webgl/resources/js/sliceplane.js -> /usr/local/lib/python3.6/dist-packages/cortex/webgl/resources/js\u001b[0m\n",
            "\u001b[39mcopying build/lib.linux-x86_64-3.6/cortex/webgl/resources/js/mriview.js -> /usr/local/lib/python3.6/dist-packages/cortex/webgl/resources/js\u001b[0m\n",
            "\u001b[39mcopying build/lib.linux-x86_64-3.6/cortex/webgl/resources/js/figure.js -> /usr/local/lib/python3.6/dist-packages/cortex/webgl/resources/js\u001b[0m\n",
            "\u001b[39mcopying build/lib.linux-x86_64-3.6/cortex/webgl/resources/js/leap.js -> /usr/local/lib/python3.6/dist-packages/cortex/webgl/resources/js\u001b[0m\n",
            "\u001b[39mcopying build/lib.linux-x86_64-3.6/cortex/webgl/resources/js/mriview_utils.js -> /usr/local/lib/python3.6/dist-packages/cortex/webgl/resources/js\u001b[0m\n",
            "\u001b[39mcopying build/lib.linux-x86_64-3.6/cortex/webgl/resources/js/w2ui-1.2.min.js -> /usr/local/lib/python3.6/dist-packages/cortex/webgl/resources/js\u001b[0m\n",
            "\u001b[39mcopying build/lib.linux-x86_64-3.6/cortex/webgl/resources/js/jquery-ui.min.js -> /usr/local/lib/python3.6/dist-packages/cortex/webgl/resources/js\u001b[0m\n",
            "\u001b[39mcopying build/lib.linux-x86_64-3.6/cortex/webgl/resources/js/python_interface.js -> /usr/local/lib/python3.6/dist-packages/cortex/webgl/resources/js\u001b[0m\n",
            "\u001b[39mcopying build/lib.linux-x86_64-3.6/cortex/webgl/resources/js/menu.js -> /usr/local/lib/python3.6/dist-packages/cortex/webgl/resources/js\u001b[0m\n",
            "\u001b[39mcopying build/lib.linux-x86_64-3.6/cortex/webgl/resources/js/select2-4.0.3.min.js -> /usr/local/lib/python3.6/dist-packages/cortex/webgl/resources/js\u001b[0m\n",
            "\u001b[39mcopying build/lib.linux-x86_64-3.6/cortex/webgl/resources/js/leap-0.6.4.js -> /usr/local/lib/python3.6/dist-packages/cortex/webgl/resources/js\u001b[0m\n",
            "\u001b[39mcopying build/lib.linux-x86_64-3.6/cortex/webgl/resources/js/mriview_surface.js -> /usr/local/lib/python3.6/dist-packages/cortex/webgl/resources/js\u001b[0m\n",
            "\u001b[39mcopying build/lib.linux-x86_64-3.6/cortex/webgl/resources/js/canvg.js -> /usr/local/lib/python3.6/dist-packages/cortex/webgl/resources/js\u001b[0m\n",
            "\u001b[39mcopying build/lib.linux-x86_64-3.6/cortex/webgl/resources/js/shaderlib.js -> /usr/local/lib/python3.6/dist-packages/cortex/webgl/resources/js\u001b[0m\n",
            "\u001b[39mcopying build/lib.linux-x86_64-3.6/cortex/webgl/resources/js/w2ui-1.4.2.js -> /usr/local/lib/python3.6/dist-packages/cortex/webgl/resources/js\u001b[0m\n",
            "\u001b[39mcopying build/lib.linux-x86_64-3.6/cortex/webgl/resources/js/w2ui-1.4.2.min.js -> /usr/local/lib/python3.6/dist-packages/cortex/webgl/resources/js\u001b[0m\n",
            "\u001b[39mcreating /usr/local/lib/python3.6/dist-packages/cortex/webgl/resources/js/ctm\u001b[0m\n",
            "\u001b[39mcopying build/lib.linux-x86_64-3.6/cortex/webgl/resources/js/ctm/lzma.js -> /usr/local/lib/python3.6/dist-packages/cortex/webgl/resources/js/ctm\u001b[0m\n",
            "\u001b[39mcopying build/lib.linux-x86_64-3.6/cortex/webgl/resources/js/ctm/CTMLoader.js -> /usr/local/lib/python3.6/dist-packages/cortex/webgl/resources/js/ctm\u001b[0m\n",
            "\u001b[39mcopying build/lib.linux-x86_64-3.6/cortex/webgl/resources/js/ctm/CTMWorker.js -> /usr/local/lib/python3.6/dist-packages/cortex/webgl/resources/js/ctm\u001b[0m\n",
            "\u001b[39mcopying build/lib.linux-x86_64-3.6/cortex/webgl/resources/js/ctm/ctm.js -> /usr/local/lib/python3.6/dist-packages/cortex/webgl/resources/js/ctm\u001b[0m\n",
            "\u001b[39mcreating /usr/local/lib/python3.6/dist-packages/cortex/webgl/resources/js/ctm/license\u001b[0m\n",
            "\u001b[39mcopying build/lib.linux-x86_64-3.6/cortex/webgl/resources/js/ctm/license/js-openctm.txt -> /usr/local/lib/python3.6/dist-packages/cortex/webgl/resources/js/ctm/license\u001b[0m\n",
            "\u001b[39mcopying build/lib.linux-x86_64-3.6/cortex/webgl/resources/js/ctm/license/OpenCTM.txt -> /usr/local/lib/python3.6/dist-packages/cortex/webgl/resources/js/ctm/license\u001b[0m\n",
            "\u001b[39mcopying build/lib.linux-x86_64-3.6/cortex/webgl/resources/js/ctm/license/js-lzma.txt -> /usr/local/lib/python3.6/dist-packages/cortex/webgl/resources/js/ctm/license\u001b[0m\n",
            "\u001b[39mcreating /usr/local/lib/python3.6/dist-packages/cortex/webgl/resources/json\u001b[0m\n",
            "\u001b[39mcopying build/lib.linux-x86_64-3.6/cortex/webgl/resources/json/wngraph-testvoxwts.json -> /usr/local/lib/python3.6/dist-packages/cortex/webgl/resources/json\u001b[0m\n",
            "\u001b[39mcopying build/lib.linux-x86_64-3.6/cortex/webgl/resources/json/wngraph-rgbcolors.json -> /usr/local/lib/python3.6/dist-packages/cortex/webgl/resources/json\u001b[0m\n",
            "\u001b[39mcopying build/lib.linux-x86_64-3.6/cortex/webgl/resources/json/wngraph-nodenames.json -> /usr/local/lib/python3.6/dist-packages/cortex/webgl/resources/json\u001b[0m\n",
            "\u001b[39mcopying build/lib.linux-x86_64-3.6/cortex/webgl/resources/json/wngraph-definitions.json -> /usr/local/lib/python3.6/dist-packages/cortex/webgl/resources/json\u001b[0m\n",
            "\u001b[39mcreating /usr/local/lib/python3.6/dist-packages/cortex/mapper\u001b[0m\n",
            "\u001b[39mcopying build/lib.linux-x86_64-3.6/cortex/mapper/samplers.py -> /usr/local/lib/python3.6/dist-packages/cortex/mapper\u001b[0m\n",
            "\u001b[39mcopying build/lib.linux-x86_64-3.6/cortex/mapper/point.py -> /usr/local/lib/python3.6/dist-packages/cortex/mapper\u001b[0m\n",
            "\u001b[39mcopying build/lib.linux-x86_64-3.6/cortex/mapper/volume.py -> /usr/local/lib/python3.6/dist-packages/cortex/mapper\u001b[0m\n",
            "\u001b[39mcopying build/lib.linux-x86_64-3.6/cortex/mapper/patch.py -> /usr/local/lib/python3.6/dist-packages/cortex/mapper\u001b[0m\n",
            "\u001b[39mcopying build/lib.linux-x86_64-3.6/cortex/mapper/__init__.py -> /usr/local/lib/python3.6/dist-packages/cortex/mapper\u001b[0m\n",
            "\u001b[39mcopying build/lib.linux-x86_64-3.6/cortex/mapper/mapper.py -> /usr/local/lib/python3.6/dist-packages/cortex/mapper\u001b[0m\n",
            "\u001b[39mcopying build/lib.linux-x86_64-3.6/cortex/mapper/line.py -> /usr/local/lib/python3.6/dist-packages/cortex/mapper\u001b[0m\n",
            "\u001b[39mcreating /usr/local/lib/python3.6/dist-packages/cortex/dataset\u001b[0m\n",
            "\u001b[39mcopying build/lib.linux-x86_64-3.6/cortex/dataset/braindata.py -> /usr/local/lib/python3.6/dist-packages/cortex/dataset\u001b[0m\n",
            "\u001b[39mcopying build/lib.linux-x86_64-3.6/cortex/dataset/__init__.py -> /usr/local/lib/python3.6/dist-packages/cortex/dataset\u001b[0m\n",
            "\u001b[39mcopying build/lib.linux-x86_64-3.6/cortex/dataset/dataset.py -> /usr/local/lib/python3.6/dist-packages/cortex/dataset\u001b[0m\n",
            "\u001b[39mcopying build/lib.linux-x86_64-3.6/cortex/dataset/views.py -> /usr/local/lib/python3.6/dist-packages/cortex/dataset\u001b[0m\n",
            "\u001b[39mcopying build/lib.linux-x86_64-3.6/cortex/dataset/view2D.py -> /usr/local/lib/python3.6/dist-packages/cortex/dataset\u001b[0m\n",
            "\u001b[39mcopying build/lib.linux-x86_64-3.6/cortex/dataset/viewRGB.py -> /usr/local/lib/python3.6/dist-packages/cortex/dataset\u001b[0m\n",
            "\u001b[39mcreating /usr/local/lib/python3.6/dist-packages/cortex/blender\u001b[0m\n",
            "\u001b[39mcopying build/lib.linux-x86_64-3.6/cortex/blender/__init__.py -> /usr/local/lib/python3.6/dist-packages/cortex/blender\u001b[0m\n",
            "\u001b[39mcopying build/lib.linux-x86_64-3.6/cortex/blender/blendlib.py -> /usr/local/lib/python3.6/dist-packages/cortex/blender\u001b[0m\n",
            "\u001b[39mcreating /usr/local/lib/python3.6/dist-packages/cortex/tests\u001b[0m\n",
            "\u001b[39mcopying build/lib.linux-x86_64-3.6/cortex/tests/test_polyutils.py -> /usr/local/lib/python3.6/dist-packages/cortex/tests\u001b[0m\n",
            "\u001b[39mcopying build/lib.linux-x86_64-3.6/cortex/tests/test_dataset.py -> /usr/local/lib/python3.6/dist-packages/cortex/tests\u001b[0m\n",
            "\u001b[39mcopying build/lib.linux-x86_64-3.6/cortex/tests/test_freesurfer.py -> /usr/local/lib/python3.6/dist-packages/cortex/tests\u001b[0m\n",
            "\u001b[39mcopying build/lib.linux-x86_64-3.6/cortex/tests/test_quickflat.py -> /usr/local/lib/python3.6/dist-packages/cortex/tests\u001b[0m\n",
            "\u001b[39mcreating /usr/local/lib/python3.6/dist-packages/cortex/quickflat\u001b[0m\n",
            "\u001b[39mcopying build/lib.linux-x86_64-3.6/cortex/quickflat/utils.py -> /usr/local/lib/python3.6/dist-packages/cortex/quickflat\u001b[0m\n",
            "\u001b[39mcopying build/lib.linux-x86_64-3.6/cortex/quickflat/view.py -> /usr/local/lib/python3.6/dist-packages/cortex/quickflat\u001b[0m\n",
            "\u001b[39mcopying build/lib.linux-x86_64-3.6/cortex/quickflat/__init__.py -> /usr/local/lib/python3.6/dist-packages/cortex/quickflat\u001b[0m\n",
            "\u001b[39mcopying build/lib.linux-x86_64-3.6/cortex/quickflat/composite.py -> /usr/local/lib/python3.6/dist-packages/cortex/quickflat\u001b[0m\n",
            "\u001b[39mcreating /usr/local/lib/python3.6/dist-packages/cortex/polyutils\u001b[0m\n",
            "\u001b[39mcopying build/lib.linux-x86_64-3.6/cortex/polyutils/subsurface.py -> /usr/local/lib/python3.6/dist-packages/cortex/polyutils\u001b[0m\n",
            "\u001b[39mcopying build/lib.linux-x86_64-3.6/cortex/polyutils/__init__.py -> /usr/local/lib/python3.6/dist-packages/cortex/polyutils\u001b[0m\n",
            "\u001b[39mcopying build/lib.linux-x86_64-3.6/cortex/polyutils/exact_geodesic.py -> /usr/local/lib/python3.6/dist-packages/cortex/polyutils\u001b[0m\n",
            "\u001b[39mcopying build/lib.linux-x86_64-3.6/cortex/polyutils/misc.py -> /usr/local/lib/python3.6/dist-packages/cortex/polyutils\u001b[0m\n",
            "\u001b[39mcopying build/lib.linux-x86_64-3.6/cortex/polyutils/distortion.py -> /usr/local/lib/python3.6/dist-packages/cortex/polyutils\u001b[0m\n",
            "\u001b[39mcopying build/lib.linux-x86_64-3.6/cortex/polyutils/surface.py -> /usr/local/lib/python3.6/dist-packages/cortex/polyutils\u001b[0m\n",
            "\u001b[39mcreating /usr/local/lib/python3.6/dist-packages/cortex/export\u001b[0m\n",
            "\u001b[39mcopying build/lib.linux-x86_64-3.6/cortex/export/save_views.py -> /usr/local/lib/python3.6/dist-packages/cortex/export\u001b[0m\n",
            "\u001b[39mcopying build/lib.linux-x86_64-3.6/cortex/export/panels.py -> /usr/local/lib/python3.6/dist-packages/cortex/export\u001b[0m\n",
            "\u001b[39mcopying build/lib.linux-x86_64-3.6/cortex/export/__init__.py -> /usr/local/lib/python3.6/dist-packages/cortex/export\u001b[0m\n",
            "\u001b[39mcopying build/lib.linux-x86_64-3.6/cortex/formats.c -> /usr/local/lib/python3.6/dist-packages/cortex\u001b[0m\n",
            "\u001b[39mcopying build/lib.linux-x86_64-3.6/cortex/openctm.c -> /usr/local/lib/python3.6/dist-packages/cortex\u001b[0m\n",
            "\u001b[39mcopying build/lib.linux-x86_64-3.6/cortex/openctm.cpython-36m-x86_64-linux-gnu.so -> /usr/local/lib/python3.6/dist-packages/cortex\u001b[0m\n",
            "\u001b[39mcopying build/lib.linux-x86_64-3.6/cortex/formats.cpython-36m-x86_64-linux-gnu.so -> /usr/local/lib/python3.6/dist-packages/cortex\u001b[0m\n",
            "\u001b[39mbyte-compiling /usr/local/lib/python3.6/dist-packages/cortex/brainctm.py to brainctm.cpython-36.pyc\u001b[0m\n",
            "\u001b[39mbyte-compiling /usr/local/lib/python3.6/dist-packages/cortex/__init__.py to __init__.cpython-36.pyc\u001b[0m\n",
            "\u001b[39mbyte-compiling /usr/local/lib/python3.6/dist-packages/cortex/rois.py to rois.cpython-36.pyc\u001b[0m\n",
            "\u001b[39mbyte-compiling /usr/local/lib/python3.6/dist-packages/cortex/mayavi_aligner.py to mayavi_aligner.cpython-36.pyc\u001b[0m\n",
            "\u001b[39mbyte-compiling /usr/local/lib/python3.6/dist-packages/cortex/appdirs.py to appdirs.cpython-36.pyc\u001b[0m\n",
            "\u001b[39mbyte-compiling /usr/local/lib/python3.6/dist-packages/cortex/align.py to align.cpython-36.pyc\u001b[0m\n",
            "\u001b[39mbyte-compiling /usr/local/lib/python3.6/dist-packages/cortex/surfinfo.py to surfinfo.cpython-36.pyc\u001b[0m\n",
            "\u001b[39mbyte-compiling /usr/local/lib/python3.6/dist-packages/cortex/fmriprep.py to fmriprep.cpython-36.pyc\u001b[0m\n",
            "\u001b[39mbyte-compiling /usr/local/lib/python3.6/dist-packages/cortex/options.py to options.cpython-36.pyc\u001b[0m\n",
            "\u001b[39mbyte-compiling /usr/local/lib/python3.6/dist-packages/cortex/mni.py to mni.cpython-36.pyc\u001b[0m\n",
            "\u001b[39mbyte-compiling /usr/local/lib/python3.6/dist-packages/cortex/formats_old.py to formats_old.cpython-36.pyc\u001b[0m\n",
            "\u001b[39mbyte-compiling /usr/local/lib/python3.6/dist-packages/cortex/database.py to database.cpython-36.pyc\u001b[0m\n",
            "\u001b[39mbyte-compiling /usr/local/lib/python3.6/dist-packages/cortex/svgoverlay.py to svgoverlay.cpython-36.pyc\u001b[0m\n",
            "\u001b[39mbyte-compiling /usr/local/lib/python3.6/dist-packages/cortex/segment.py to segment.cpython-36.pyc\u001b[0m\n",
            "\u001b[39mbyte-compiling /usr/local/lib/python3.6/dist-packages/cortex/anat.py to anat.cpython-36.pyc\u001b[0m\n",
            "\u001b[39mbyte-compiling /usr/local/lib/python3.6/dist-packages/cortex/freesurfer.py to freesurfer.cpython-36.pyc\u001b[0m\n",
            "\u001b[39mbyte-compiling /usr/local/lib/python3.6/dist-packages/cortex/utils.py to utils.cpython-36.pyc\u001b[0m\n",
            "\u001b[39mbyte-compiling /usr/local/lib/python3.6/dist-packages/cortex/volume.py to volume.cpython-36.pyc\u001b[0m\n",
            "\u001b[39mbyte-compiling /usr/local/lib/python3.6/dist-packages/cortex/mp.py to mp.cpython-36.pyc\u001b[0m\n",
            "\u001b[39mbyte-compiling /usr/local/lib/python3.6/dist-packages/cortex/xfm.py to xfm.cpython-36.pyc\u001b[0m\n",
            "\u001b[39mbyte-compiling /usr/local/lib/python3.6/dist-packages/cortex/webgl/data.py to data.cpython-36.pyc\u001b[0m\n",
            "\u001b[39mbyte-compiling /usr/local/lib/python3.6/dist-packages/cortex/webgl/htmlembed.py to htmlembed.cpython-36.pyc\u001b[0m\n",
            "\u001b[39mbyte-compiling /usr/local/lib/python3.6/dist-packages/cortex/webgl/FallbackLoader.py to FallbackLoader.cpython-36.pyc\u001b[0m\n",
            "\u001b[39mbyte-compiling /usr/local/lib/python3.6/dist-packages/cortex/webgl/__init__.py to __init__.cpython-36.pyc\u001b[0m\n",
            "\u001b[39mbyte-compiling /usr/local/lib/python3.6/dist-packages/cortex/webgl/view.py to view.cpython-36.pyc\u001b[0m\n",
            "\u001b[39mbyte-compiling /usr/local/lib/python3.6/dist-packages/cortex/webgl/serve.py to serve.cpython-36.pyc\u001b[0m\n",
            "\u001b[39mbyte-compiling /usr/local/lib/python3.6/dist-packages/cortex/mapper/samplers.py to samplers.cpython-36.pyc\u001b[0m\n",
            "\u001b[39mbyte-compiling /usr/local/lib/python3.6/dist-packages/cortex/mapper/point.py to point.cpython-36.pyc\u001b[0m\n",
            "\u001b[39mbyte-compiling /usr/local/lib/python3.6/dist-packages/cortex/mapper/volume.py to volume.cpython-36.pyc\u001b[0m\n",
            "\u001b[39mbyte-compiling /usr/local/lib/python3.6/dist-packages/cortex/mapper/patch.py to patch.cpython-36.pyc\u001b[0m\n",
            "\u001b[39mbyte-compiling /usr/local/lib/python3.6/dist-packages/cortex/mapper/__init__.py to __init__.cpython-36.pyc\u001b[0m\n",
            "\u001b[39mbyte-compiling /usr/local/lib/python3.6/dist-packages/cortex/mapper/mapper.py to mapper.cpython-36.pyc\u001b[0m\n",
            "\u001b[39mbyte-compiling /usr/local/lib/python3.6/dist-packages/cortex/mapper/line.py to line.cpython-36.pyc\u001b[0m\n",
            "\u001b[39mbyte-compiling /usr/local/lib/python3.6/dist-packages/cortex/dataset/braindata.py to braindata.cpython-36.pyc\u001b[0m\n",
            "\u001b[39mbyte-compiling /usr/local/lib/python3.6/dist-packages/cortex/dataset/__init__.py to __init__.cpython-36.pyc\u001b[0m\n",
            "\u001b[39mbyte-compiling /usr/local/lib/python3.6/dist-packages/cortex/dataset/dataset.py to dataset.cpython-36.pyc\u001b[0m\n",
            "\u001b[39mbyte-compiling /usr/local/lib/python3.6/dist-packages/cortex/dataset/views.py to views.cpython-36.pyc\u001b[0m\n",
            "\u001b[39mbyte-compiling /usr/local/lib/python3.6/dist-packages/cortex/dataset/view2D.py to view2D.cpython-36.pyc\u001b[0m\n",
            "\u001b[39mbyte-compiling /usr/local/lib/python3.6/dist-packages/cortex/dataset/viewRGB.py to viewRGB.cpython-36.pyc\u001b[0m\n",
            "\u001b[39mbyte-compiling /usr/local/lib/python3.6/dist-packages/cortex/blender/__init__.py to __init__.cpython-36.pyc\u001b[0m\n",
            "\u001b[39mbyte-compiling /usr/local/lib/python3.6/dist-packages/cortex/blender/blendlib.py to blendlib.cpython-36.pyc\u001b[0m\n",
            "\u001b[39mbyte-compiling /usr/local/lib/python3.6/dist-packages/cortex/tests/test_polyutils.py to test_polyutils.cpython-36.pyc\u001b[0m\n",
            "\u001b[39mbyte-compiling /usr/local/lib/python3.6/dist-packages/cortex/tests/test_dataset.py to test_dataset.cpython-36.pyc\u001b[0m\n",
            "\u001b[39mbyte-compiling /usr/local/lib/python3.6/dist-packages/cortex/tests/test_freesurfer.py to test_freesurfer.cpython-36.pyc\u001b[0m\n",
            "\u001b[39mbyte-compiling /usr/local/lib/python3.6/dist-packages/cortex/tests/test_quickflat.py to test_quickflat.cpython-36.pyc\u001b[0m\n",
            "\u001b[39mbyte-compiling /usr/local/lib/python3.6/dist-packages/cortex/quickflat/utils.py to utils.cpython-36.pyc\u001b[0m\n",
            "\u001b[39mbyte-compiling /usr/local/lib/python3.6/dist-packages/cortex/quickflat/view.py to view.cpython-36.pyc\u001b[0m\n",
            "\u001b[39mbyte-compiling /usr/local/lib/python3.6/dist-packages/cortex/quickflat/__init__.py to __init__.cpython-36.pyc\u001b[0m\n",
            "\u001b[39mbyte-compiling /usr/local/lib/python3.6/dist-packages/cortex/quickflat/composite.py to composite.cpython-36.pyc\u001b[0m\n",
            "\u001b[39mbyte-compiling /usr/local/lib/python3.6/dist-packages/cortex/polyutils/subsurface.py to subsurface.cpython-36.pyc\u001b[0m\n",
            "\u001b[39mbyte-compiling /usr/local/lib/python3.6/dist-packages/cortex/polyutils/__init__.py to __init__.cpython-36.pyc\u001b[0m\n",
            "\u001b[39mbyte-compiling /usr/local/lib/python3.6/dist-packages/cortex/polyutils/exact_geodesic.py to exact_geodesic.cpython-36.pyc\u001b[0m\n",
            "\u001b[39mbyte-compiling /usr/local/lib/python3.6/dist-packages/cortex/polyutils/misc.py to misc.cpython-36.pyc\u001b[0m\n",
            "\u001b[39mbyte-compiling /usr/local/lib/python3.6/dist-packages/cortex/polyutils/distortion.py to distortion.cpython-36.pyc\u001b[0m\n",
            "\u001b[39mbyte-compiling /usr/local/lib/python3.6/dist-packages/cortex/polyutils/surface.py to surface.cpython-36.pyc\u001b[0m\n",
            "\u001b[39mbyte-compiling /usr/local/lib/python3.6/dist-packages/cortex/export/save_views.py to save_views.cpython-36.pyc\u001b[0m\n",
            "\u001b[39mbyte-compiling /usr/local/lib/python3.6/dist-packages/cortex/export/panels.py to panels.cpython-36.pyc\u001b[0m\n",
            "\u001b[39mbyte-compiling /usr/local/lib/python3.6/dist-packages/cortex/export/__init__.py to __init__.cpython-36.pyc\u001b[0m\n",
            "\u001b[39mrunning install_egg_info\u001b[0m\n",
            "\u001b[39mCopying pycortex.egg-info to /usr/local/lib/python3.6/dist-packages/pycortex-1.2.dev0-py3.6.egg-info\u001b[0m\n",
            "\u001b[39mrunning install_scripts\u001b[0m\n",
            "\u001b[39mcreating /usr/local/share/pycortex\u001b[0m\n",
            "\u001b[39mcreating /usr/local/share/pycortex/colormaps\u001b[0m\n",
            "\u001b[39mcopying filestore/colormaps/Accent.png -> /usr/local/share/pycortex/colormaps\u001b[0m\n",
            "\u001b[39mcopying filestore/colormaps/Accent_r.png -> /usr/local/share/pycortex/colormaps\u001b[0m\n",
            "\u001b[39mcopying filestore/colormaps/BROYG.png -> /usr/local/share/pycortex/colormaps\u001b[0m\n",
            "\u001b[39mcopying filestore/colormaps/BROYG_2D.png -> /usr/local/share/pycortex/colormaps\u001b[0m\n",
            "\u001b[39mcopying filestore/colormaps/Blues.png -> /usr/local/share/pycortex/colormaps\u001b[0m\n",
            "\u001b[39mcopying filestore/colormaps/Blues_r.png -> /usr/local/share/pycortex/colormaps\u001b[0m\n",
            "\u001b[39mcopying filestore/colormaps/BrBG.png -> /usr/local/share/pycortex/colormaps\u001b[0m\n",
            "\u001b[39mcopying filestore/colormaps/BrBG_r.png -> /usr/local/share/pycortex/colormaps\u001b[0m\n",
            "\u001b[39mcopying filestore/colormaps/BuBkRd.png -> /usr/local/share/pycortex/colormaps\u001b[0m\n",
            "\u001b[39mcopying filestore/colormaps/BuBkRd_alpha_2D.png -> /usr/local/share/pycortex/colormaps\u001b[0m\n",
            "\u001b[39mcopying filestore/colormaps/BuGn.png -> /usr/local/share/pycortex/colormaps\u001b[0m\n",
            "\u001b[39mcopying filestore/colormaps/BuGn_r.png -> /usr/local/share/pycortex/colormaps\u001b[0m\n",
            "\u001b[39mcopying filestore/colormaps/BuOr_2D.png -> /usr/local/share/pycortex/colormaps\u001b[0m\n",
            "\u001b[39mcopying filestore/colormaps/BuPu.png -> /usr/local/share/pycortex/colormaps\u001b[0m\n",
            "\u001b[39mcopying filestore/colormaps/BuPu_r.png -> /usr/local/share/pycortex/colormaps\u001b[0m\n",
            "\u001b[39mcopying filestore/colormaps/BuWtRd.png -> /usr/local/share/pycortex/colormaps\u001b[0m\n",
            "\u001b[39mcopying filestore/colormaps/BuWtRd_alpha.png -> /usr/local/share/pycortex/colormaps\u001b[0m\n",
            "\u001b[39mcopying filestore/colormaps/BuWtRd_black_2D.png -> /usr/local/share/pycortex/colormaps\u001b[0m\n",
            "\u001b[39mcopying filestore/colormaps/CyanBlueGrayRedPink.png -> /usr/local/share/pycortex/colormaps\u001b[0m\n",
            "\u001b[39mcopying filestore/colormaps/Dark2.png -> /usr/local/share/pycortex/colormaps\u001b[0m\n",
            "\u001b[39mcopying filestore/colormaps/Dark2_r.png -> /usr/local/share/pycortex/colormaps\u001b[0m\n",
            "\u001b[39mcopying filestore/colormaps/GnBu.png -> /usr/local/share/pycortex/colormaps\u001b[0m\n",
            "\u001b[39mcopying filestore/colormaps/GnBu_r.png -> /usr/local/share/pycortex/colormaps\u001b[0m\n",
            "\u001b[39mcopying filestore/colormaps/GreenWhiteBlue.png -> /usr/local/share/pycortex/colormaps\u001b[0m\n",
            "\u001b[39mcopying filestore/colormaps/GreenWhiteBlue_2D.png -> /usr/local/share/pycortex/colormaps\u001b[0m\n",
            "\u001b[39mcopying filestore/colormaps/GreenWhiteRed.png -> /usr/local/share/pycortex/colormaps\u001b[0m\n",
            "\u001b[39mcopying filestore/colormaps/GreenWhiteRed_2D.png -> /usr/local/share/pycortex/colormaps\u001b[0m\n",
            "\u001b[39mcopying filestore/colormaps/Greens.png -> /usr/local/share/pycortex/colormaps\u001b[0m\n",
            "\u001b[39mcopying filestore/colormaps/Greens_r.png -> /usr/local/share/pycortex/colormaps\u001b[0m\n",
            "\u001b[39mcopying filestore/colormaps/Greys.png -> /usr/local/share/pycortex/colormaps\u001b[0m\n",
            "\u001b[39mcopying filestore/colormaps/Greys_r.png -> /usr/local/share/pycortex/colormaps\u001b[0m\n",
            "\u001b[39mcopying filestore/colormaps/J4.png -> /usr/local/share/pycortex/colormaps\u001b[0m\n",
            "\u001b[39mcopying filestore/colormaps/J4R.png -> /usr/local/share/pycortex/colormaps\u001b[0m\n",
            "\u001b[39mcopying filestore/colormaps/J4s.png -> /usr/local/share/pycortex/colormaps\u001b[0m\n",
            "\u001b[39mcopying filestore/colormaps/J5.png -> /usr/local/share/pycortex/colormaps\u001b[0m\n",
            "\u001b[39mcopying filestore/colormaps/J5R.png -> /usr/local/share/pycortex/colormaps\u001b[0m\n",
            "\u001b[39mcopying filestore/colormaps/J6.png -> /usr/local/share/pycortex/colormaps\u001b[0m\n",
            "\u001b[39mcopying filestore/colormaps/J6R.png -> /usr/local/share/pycortex/colormaps\u001b[0m\n",
            "\u001b[39mcopying filestore/colormaps/OrRd.png -> /usr/local/share/pycortex/colormaps\u001b[0m\n",
            "\u001b[39mcopying filestore/colormaps/OrRd_r.png -> /usr/local/share/pycortex/colormaps\u001b[0m\n",
            "\u001b[39mcopying filestore/colormaps/Oranges.png -> /usr/local/share/pycortex/colormaps\u001b[0m\n",
            "\u001b[39mcopying filestore/colormaps/Oranges_r.png -> /usr/local/share/pycortex/colormaps\u001b[0m\n",
            "\u001b[39mcopying filestore/colormaps/PRGn.png -> /usr/local/share/pycortex/colormaps\u001b[0m\n",
            "\u001b[39mcopying filestore/colormaps/PRGn_r.png -> /usr/local/share/pycortex/colormaps\u001b[0m\n",
            "\u001b[39mcopying filestore/colormaps/PU_BuOr_covar.png -> /usr/local/share/pycortex/colormaps\u001b[0m\n",
            "\u001b[39mcopying filestore/colormaps/PU_BuOr_covar_alpha.png -> /usr/local/share/pycortex/colormaps\u001b[0m\n",
            "\u001b[39mcopying filestore/colormaps/PU_PinkBlue_covar.png -> /usr/local/share/pycortex/colormaps\u001b[0m\n"
          ],
          "name": "stdout"
        }
      ]
    },
    {
      "cell_type": "code",
      "metadata": {
        "id": "OJPaQFEG6Zcg",
        "colab_type": "code",
        "colab": {}
      },
      "source": [
        "!pip install wget"
      ],
      "execution_count": 0,
      "outputs": []
    },
    {
      "cell_type": "code",
      "metadata": {
        "id": "CpkQWhcB5eMq",
        "colab_type": "code",
        "colab": {}
      },
      "source": [
        "cd \"/content/drive//My Drive/NeuroAttention/speechmodeltutorial\""
      ],
      "execution_count": 0,
      "outputs": []
    },
    {
      "cell_type": "markdown",
      "metadata": {
        "id": "4apIDdTTNqhK",
        "colab_type": "text"
      },
      "source": [
        "# Sematic Model"
      ]
    },
    {
      "cell_type": "code",
      "metadata": {
        "id": "n-3JtiRsMXZh",
        "colab_type": "code",
        "colab": {}
      },
      "source": [
        "# Using DistillBert here to get a quick baseline\n",
        "model_class, tokenizer_class, pretrained_weights = (ppb.DistilBertModel, ppb.DistilBertTokenizer, 'distilbert-base-uncased')\n",
        "\n",
        "model = model_class.from_pretrained(pretrained_weights)"
      ],
      "execution_count": 0,
      "outputs": []
    },
    {
      "cell_type": "markdown",
      "metadata": {
        "id": "ywt35qEsOGtK",
        "colab_type": "text"
      },
      "source": [
        "# Load Stimulus Data"
      ]
    },
    {
      "cell_type": "code",
      "metadata": {
        "id": "0g7GMe9ZN1yY",
        "colab_type": "code",
        "colab": {}
      },
      "source": [
        "# These are lists of the stories\n",
        "# Rstories are the names of the training (or Regression) stories, which we will use to fit our models\n",
        "Rstories = ['alternateithicatom', 'avatar', 'howtodraw', 'legacy', \n",
        "            'life', 'myfirstdaywiththeyankees', 'naked', \n",
        "            'odetostepfather', 'souls', 'undertheinfluence']\n",
        "\n",
        "# Pstories are the test (or Prediction) stories (well, story), which we will use to test our models\n",
        "Pstories = ['wheretheressmoke']\n",
        "\n",
        "allstories = Rstories + Pstories\n",
        "\n",
        "# Load TextGrids\n",
        "from stimulus_utils import load_grids_for_stories\n",
        "grids = load_grids_for_stories(allstories)\n",
        "\n",
        "# Load TRfiles\n",
        "from stimulus_utils import load_generic_trfiles\n",
        "trfiles = load_generic_trfiles(allstories)\n",
        "\n",
        "# Make word and phoneme datasequences\n",
        "from dsutils import make_word_ds, make_phoneme_ds\n",
        "wordseqs = make_word_ds(grids, trfiles) # dictionary of {storyname : word DataSequence}\n",
        "phonseqs = make_phoneme_ds(grids, trfiles) # dictionary of {storyname : phoneme DataSequence}"
      ],
      "execution_count": 0,
      "outputs": []
    },
    {
      "cell_type": "markdown",
      "metadata": {
        "id": "erNsE0o3WmUE",
        "colab_type": "text"
      },
      "source": [
        "Before going on, let's play with the DataSequences a bit, both so you can see what the data structure looks like, and also so you can see what the stimuli look like."
      ]
    },
    {
      "cell_type": "code",
      "metadata": {
        "id": "SEngID8IWn92",
        "colab_type": "code",
        "colab": {}
      },
      "source": [
        "naked = wordseqs[\"naked\"]\n",
        "# The DataSequence stores a lot of information\n",
        "# naked.data is a list of all the words in the story\n",
        "print (\"There are  words in the story called 'naked'\", len(naked.data))"
      ],
      "execution_count": 0,
      "outputs": []
    },
    {
      "cell_type": "code",
      "metadata": {
        "id": "fuuKtblbWw3c",
        "colab_type": "code",
        "colab": {}
      },
      "source": [
        "# We can print out the first 100 words like this\n",
        "print (naked.data[:100])\n",
        "# or, if you want it to be more readable, like this\n",
        "print (\" \".join(naked.data[:100]))"
      ],
      "execution_count": 0,
      "outputs": []
    },
    {
      "cell_type": "code",
      "metadata": {
        "id": "mDi0kROTW-Vc",
        "colab_type": "code",
        "colab": {}
      },
      "source": [
        "# the datasequence also stores when exactly each word was spoken (this time corresponds to the middle of each word)\n",
        "print (naked.data_times[:10])"
      ],
      "execution_count": 0,
      "outputs": []
    },
    {
      "cell_type": "code",
      "metadata": {
        "id": "0K6TiZjsXCbc",
        "colab_type": "code",
        "colab": {}
      },
      "source": [
        "# and it also stores the time of the middle of each fMRI acquisition (each acqusition takes 2.0045 seconds)\n",
        "# these times are relative to story start, so the fMRI scan started 10 seconds before the story\n",
        "print (naked.tr_times[:10])"
      ],
      "execution_count": 0,
      "outputs": []
    },
    {
      "cell_type": "code",
      "metadata": {
        "id": "DAC8_Nl8XGlG",
        "colab_type": "code",
        "colab": {}
      },
      "source": [
        "# and it also makes it easy to, for example, find the words that were spoken during each fMRI acquisition\n",
        "# (the first few are empty because they came before the story started)\n",
        "print (naked.chunks()[:10])"
      ],
      "execution_count": 0,
      "outputs": []
    },
    {
      "cell_type": "markdown",
      "metadata": {
        "id": "srQxce4rOdgK",
        "colab_type": "text"
      },
      "source": [
        "# Projecting the Stimuli into the Semantic Space"
      ]
    },
    {
      "cell_type": "code",
      "metadata": {
        "id": "Vq6MfR3qOilM",
        "colab_type": "code",
        "colab": {}
      },
      "source": [
        "# get the word embeddings and few other things"
      ],
      "execution_count": 0,
      "outputs": []
    },
    {
      "cell_type": "code",
      "metadata": {
        "id": "0Vz6cu2kOmIG",
        "colab_type": "code",
        "colab": {}
      },
      "source": [
        "# Load pre-trained model tokenizer (vocabulary)\n",
        "tokenizer = BertTokenizer.from_pretrained('bert-base-uncased')\n",
        "\n",
        "def dataProcessingEmbedding(Dataset):\n",
        "  tokenized_text = []\n",
        "  indexed_tokens = []\n",
        "  segments_ids = []\n",
        "  marked_text_lis = []\n",
        "  error_lis = []\n",
        "  for i in range(0,len(Dataset)):\n",
        "    try:\n",
        "        marked_text = \"[CLS] \"+str(Dataset[i])+\" [SEP]\"\n",
        "      # Tokenize our sentence with the BERT tokenizer.\n",
        "        tokens = tokenizer.tokenize(marked_text)\n",
        "        marked_text_lis.append(marked_text)\n",
        "        tokenized_text.append(tokens)\n",
        "        indexed_tokens.append(tokenizer.convert_tokens_to_ids(tokens))\n",
        "        segments_ids.append([1] * len(tokens))\n",
        "    except:\n",
        "        error_lis.append(i)\n",
        "\n",
        "  return tokenized_text, indexed_tokens, segments_ids, marked_text_lis"
      ],
      "execution_count": 0,
      "outputs": []
    },
    {
      "cell_type": "code",
      "metadata": {
        "id": "HOHke1LfXyuy",
        "colab_type": "code",
        "colab": {}
      },
      "source": [
        "tokenized_text_all = {}\n",
        "indexed_tokens_all = {}\n",
        "segments_ids_all = {}\n",
        "marked_text_lis_all = {}\n",
        "for story in allstories:\n",
        "  tokenized_text, indexed_tokens, segments_ids, marked_text_lis = dataProcessingEmbedding(wordseqs[story].data)\n",
        "  tokenized_text_all[story]=tokenized_text\n",
        "  indexed_tokens_all[story]=indexed_tokens\n",
        "  segments_ids_all[story]=segments_ids\n",
        "  marked_text_lis_all[story]=marked_text_lis\n",
        "\n"
      ],
      "execution_count": 0,
      "outputs": []
    },
    {
      "cell_type": "code",
      "metadata": {
        "id": "QRJJdM-dawkr",
        "colab_type": "code",
        "colab": {}
      },
      "source": [
        "#though you have made it at a word level, those words might not exist in bert and are hence broken down! hence need not be three!\n",
        "for el in indexed_tokens_all['naked']:\n",
        "  print(el)"
      ],
      "execution_count": 0,
      "outputs": []
    },
    {
      "cell_type": "markdown",
      "metadata": {
        "id": "cKAfCMtZcNTP",
        "colab_type": "text"
      },
      "source": [
        "Convert Indexed Tokens to Tensors"
      ]
    },
    {
      "cell_type": "code",
      "metadata": {
        "id": "n4dSEOoccKp8",
        "colab_type": "code",
        "colab": {}
      },
      "source": [
        "# Convert inputs to PyTorch tensors\n",
        "def convertTokens_Tensors(indexed_tokens,segments_ids):\n",
        "  pad = len(max(indexed_tokens, key=len))\n",
        "  indexed_tokens_pad = np.array([i + [0]*(pad-len(i)) for i in indexed_tokens])\n",
        "  segments_ids_pad = np.array([i + [1]*(pad-len(i)) for i in segments_ids])\n",
        "\n",
        "  tokens_tensor = torch.Tensor(indexed_tokens_pad)\n",
        "  segments_tensors = torch.tensor(segments_ids_pad)\n",
        "\n",
        "  return tokens_tensor, segments_tensors\n"
      ],
      "execution_count": 0,
      "outputs": []
    },
    {
      "cell_type": "code",
      "metadata": {
        "id": "L0y-Qn4vf3sb",
        "colab_type": "code",
        "colab": {}
      },
      "source": [
        "tokens_tensor_all = {}\n",
        "segments_tensors_all = {}\n",
        "\n",
        "for story in allstories:\n",
        "  tokens_tensor, segments_tensors = convertTokens_Tensors(indexed_tokens_all[story],segments_ids_all[story])\n",
        "  tokens_tensor_all[story]=tokens_tensor\n",
        "  segments_tensors_all[story]=segments_tensors\n"
      ],
      "execution_count": 0,
      "outputs": []
    },
    {
      "cell_type": "code",
      "metadata": {
        "id": "1U52qZa1bIAu",
        "colab_type": "code",
        "colab": {}
      },
      "source": [
        "semanticseqs = {}\n",
        "for story in allstories:\n",
        "  with torch.no_grad():\n",
        "      last_hidden_states = model(tokens_tensor_all[story].to(torch.int64), attention_mask=segments_tensors_all[story].to(torch.int64))\n",
        "  semanticseqs[story] = last_hidden_states[0][:,0,:].numpy()"
      ],
      "execution_count": 0,
      "outputs": []
    },
    {
      "cell_type": "code",
      "metadata": {
        "id": "VId14EYfgn5p",
        "colab_type": "code",
        "colab": {}
      },
      "source": [
        ""
      ],
      "execution_count": 0,
      "outputs": []
    },
    {
      "cell_type": "code",
      "metadata": {
        "id": "VE7Lten0h-LX",
        "colab_type": "code",
        "colab": {}
      },
      "source": [
        "# take a look at the projected stimuli\n",
        "naked_proj = semanticseqs[\"naked\"]\n",
        "\n",
        "print (naked_proj.shape) # prints the shape of 'data' as (rows, columns)\n",
        "print (naked_proj[:10]) # print the first 10 rows (this will be truncated)"
      ],
      "execution_count": 0,
      "outputs": []
    },
    {
      "cell_type": "code",
      "metadata": {
        "id": "FZp0W_WekygF",
        "colab_type": "code",
        "colab": {}
      },
      "source": [
        "# lanczos interpolation\n",
        "from interpdata import sincinterp2D, gabor_xfm2D, lanczosinterp2D\n",
        "\n",
        "downsampled_semanticseqs = dict() # dictionary to hold downsampled stimuli\n",
        "for story in allstories:\n",
        "  downsampled_semanticseqs[story]=lanczosinterp2D(semanticseqs[story], wordseqs[story].data_times, wordseqs[story].tr_times) "
      ],
      "execution_count": 0,
      "outputs": []
    },
    {
      "cell_type": "markdown",
      "metadata": {
        "id": "HIsCUDIOn70S",
        "colab_type": "text"
      },
      "source": [
        "Visualizing the downsampling"
      ]
    },
    {
      "cell_type": "code",
      "metadata": {
        "id": "5SahZIkYn5UH",
        "colab_type": "code",
        "colab": {}
      },
      "source": [
        "s_words = wordseqs[\"naked\"]\n",
        "s_sem = semanticseqs[\"naked\"]\n",
        "s_semdown = downsampled_semanticseqs[\"naked\"]\n",
        "\n",
        "f = figure(figsize=(15,5))\n",
        "f.clf()\n",
        "schan = 2\n",
        "ax = f.add_subplot(1,1,1)\n",
        "wordstems = ax.stem(s_words.data_times, \n",
        "                    s_sem[:,schan] / np.abs(s_sem[:,schan]).max(), \n",
        "                    linefmt=\"k-\", markerfmt=\"k.\", basefmt=\"k-\")\n",
        "interps = ax.plot(s_words.tr_times, \n",
        "                  s_semdown[:,schan] / np.abs(s_semdown[:,schan]).max(), 'r.-')\n",
        "ax.set_xlim(-6, 60)\n",
        "ax.set_ylim(-1, 1)\n",
        "ax.set_xlabel(\"Time (seconds since story start)\")\n",
        "ax.set_ylabel(\"Semantic feature value\")\n",
        "ax.legend((wordstems, interps[0]), (\"Individual words\", \"Downsampled feature\"));\n"
      ],
      "execution_count": 0,
      "outputs": []
    },
    {
      "cell_type": "markdown",
      "metadata": {
        "id": "oTa5lqsAo9YW",
        "colab_type": "text"
      },
      "source": [
        "Concatenating features across stories"
      ]
    },
    {
      "cell_type": "code",
      "metadata": {
        "id": "7R7JzIigo7-j",
        "colab_type": "code",
        "colab": {}
      },
      "source": [
        "# Combine stimuli\n",
        "from npp import zscore\n",
        "trim = 5\n",
        "Rstim = np.vstack([zscore(downsampled_semanticseqs[story][5+trim:-trim]) for story in Rstories])\n",
        "Pstim = np.vstack([zscore(downsampled_semanticseqs[story][5+trim:-trim]) for story in Pstories])"
      ],
      "execution_count": 0,
      "outputs": []
    },
    {
      "cell_type": "code",
      "metadata": {
        "id": "W-RJF9TtpEkm",
        "colab_type": "code",
        "colab": {}
      },
      "source": [
        "# Print the sizes of these matrices\n",
        "print (\"Rstim shape: \", Rstim.shape)\n",
        "print (\"Pstim shape: \", Pstim.shape)"
      ],
      "execution_count": 0,
      "outputs": []
    },
    {
      "cell_type": "markdown",
      "metadata": {
        "id": "vdgqRzGQpThb",
        "colab_type": "text"
      },
      "source": [
        "Visualizing the combined stimuli"
      ]
    },
    {
      "cell_type": "code",
      "metadata": {
        "id": "dVloUlxypSk7",
        "colab_type": "code",
        "colab": {}
      },
      "source": [
        "# Plot some of the combined stimuli\n",
        "f = figure(figsize=(20, 5))\n",
        "ax = f.add_subplot(1,1,1)\n",
        "\n",
        "for ii in range(10):\n",
        "    # Plot each feature, offset by 5 vertically so they are easier to see\n",
        "    ax.plot(Rstim[:750,ii] - 5 * ii)\n",
        "\n",
        "ax.set_xlim(0, 750)\n",
        "ax.set_yticks([])\n",
        "ax.set_xticks(range(0, 750, 50))\n",
        "ax.set_xlabel(\"Time (fMRI volumes)\")\n",
        "ax.set_ylabel(\"Features 1-10\")\n",
        "ax.grid()"
      ],
      "execution_count": 0,
      "outputs": []
    },
    {
      "cell_type": "markdown",
      "metadata": {
        "id": "Ya2DgG0XpgxH",
        "colab_type": "text"
      },
      "source": [
        "Concatenate delayed stimuli for FIR model"
      ]
    },
    {
      "cell_type": "code",
      "metadata": {
        "id": "K8pJdLOepgRt",
        "colab_type": "code",
        "colab": {}
      },
      "source": [
        "# Delay stimuli\n",
        "from util import make_delayed\n",
        "ndelays = 4\n",
        "delays = range(1, ndelays+1)\n",
        "\n",
        "print (\"FIR model delays: \", delays)\n",
        "\n",
        "delRstim = make_delayed(Rstim, delays)\n",
        "delPstim = make_delayed(Pstim, delays)"
      ],
      "execution_count": 0,
      "outputs": []
    },
    {
      "cell_type": "code",
      "metadata": {
        "id": "IFCAejDCpsKJ",
        "colab_type": "code",
        "colab": {}
      },
      "source": [
        "# Print the sizes of these matrices\n",
        "print (\"delRstim shape: \", delRstim.shape)\n",
        "print (\"delPstim shape: \", delPstim.shape)"
      ],
      "execution_count": 0,
      "outputs": []
    },
    {
      "cell_type": "markdown",
      "metadata": {
        "id": "_ksL1Vtvp387",
        "colab_type": "text"
      },
      "source": [
        "Visualizing FIR Features"
      ]
    },
    {
      "cell_type": "code",
      "metadata": {
        "id": "U6g7Hvofp3BE",
        "colab_type": "code",
        "colab": {}
      },
      "source": [
        "# Plot the same feature at different delays\n",
        "f = figure(figsize=(15, 4))\n",
        "ax = f.add_subplot(1,1,1)\n",
        "for ii in range(ndelays):\n",
        "    ax.plot(delRstim[:500, ii * Rstim.shape[1]] - 5 * ii)\n",
        "ax.set_xlim(0, 500)\n",
        "ax.set_yticks([])\n",
        "ax.set_xticks(range(0, 500, 50))\n",
        "ax.set_xlabel(\"Time (fMRI volumes)\")\n",
        "ax.set_ylabel(\"Feature 1 across delays\")\n",
        "ax.grid()"
      ],
      "execution_count": 0,
      "outputs": []
    },
    {
      "cell_type": "markdown",
      "metadata": {
        "id": "MaR3yTisOm0q",
        "colab_type": "text"
      },
      "source": [
        "# Response Data"
      ]
    },
    {
      "cell_type": "code",
      "metadata": {
        "id": "sX1qBySXOsIk",
        "colab_type": "code",
        "colab": {}
      },
      "source": [
        "# Load responses\n",
        "import tables\n",
        "resptf = tables.open_file('fmri-responses.hf5')\n",
        "zRresp = resptf.root.zRresp.read()\n",
        "zPresp = resptf.root.zPresp.read()\n",
        "mask = resptf.root.mask.read()"
      ],
      "execution_count": 0,
      "outputs": []
    },
    {
      "cell_type": "code",
      "metadata": {
        "id": "P26bkemqqC1Z",
        "colab_type": "code",
        "colab": {}
      },
      "source": [
        "# Print matrix shapes\n",
        "print (\"zRresp shape (num time points, num voxels): \", zRresp.shape)\n",
        "print (\"zPresp shape (num time points, num voxels): \", zPresp.shape)\n",
        "print (\"mask shape (Z, Y, X): \", mask.shape)"
      ],
      "execution_count": 0,
      "outputs": []
    },
    {
      "cell_type": "markdown",
      "metadata": {
        "id": "ywV-Rh1drqDs",
        "colab_type": "text"
      },
      "source": [
        "Visualizing the responses of few voxels over time"
      ]
    },
    {
      "cell_type": "code",
      "metadata": {
        "id": "QM3-a37Ero9M",
        "colab_type": "code",
        "colab": {}
      },
      "source": [
        "# Plot the response of a few voxels over time\n",
        "selvoxels = [20710, 27627, 24344, 34808, 22423, 25397]\n",
        "\n",
        "f = figure(figsize=(15, 5))\n",
        "ax = f.add_subplot(1,1,1)\n",
        "for ii,vi in enumerate(selvoxels):\n",
        "    ax.plot(zRresp[:500, vi] - 5 * ii)\n",
        "ax.set_xlim(0, 500)\n",
        "ax.set_yticks([])\n",
        "ax.set_xticks(range(0, 500, 50))\n",
        "ax.set_xlabel(\"Time (fMRI volumes)\")\n",
        "ax.set_ylabel(\"Voxel responses\")\n",
        "ax.grid()"
      ],
      "execution_count": 0,
      "outputs": []
    },
    {
      "cell_type": "markdown",
      "metadata": {
        "id": "KKvPBLfcr1aa",
        "colab_type": "text"
      },
      "source": [
        "# Regression Model"
      ]
    },
    {
      "cell_type": "code",
      "metadata": {
        "id": "HQLQtxttr3sN",
        "colab_type": "code",
        "colab": {}
      },
      "source": [
        "# Run regression\n",
        "from ridge import bootstrap_ridge\n",
        "alphas = np.logspace(1, 3, 10) # Equally log-spaced alphas between 10 and 1000. The third number is the number of alphas to test.\n",
        "nboots = 5 # Number of cross-validation runs.\n",
        "chunklen = 40 # \n",
        "nchunks = 20\n",
        "\n",
        "wt, corr, alphas, bscorrs, valinds = bootstrap_ridge(delRstim, zRresp, delPstim, zPresp,\n",
        "                                                     alphas, nboots, chunklen, nchunks,\n",
        "                                                     singcutoff=1e-10, single_alpha=True)"
      ],
      "execution_count": 0,
      "outputs": []
    },
    {
      "cell_type": "markdown",
      "metadata": {
        "id": "tY7Wyspj3HqD",
        "colab_type": "text"
      },
      "source": [
        "Variables returned by the regression"
      ]
    },
    {
      "cell_type": "code",
      "metadata": {
        "id": "P4336d9c3Md-",
        "colab_type": "code",
        "colab": {}
      },
      "source": [
        "# wt is the regression weights\n",
        "print (\"wt has shape: \", wt.shape)\n",
        "\n",
        "# corr is the correlation between predicted and actual voxel responses in the Prediction dataset\n",
        "print (\"corr has shape: \", corr.shape)\n",
        "\n",
        "# alphas is the selected alpha value for each voxel, here it should be the same across voxels\n",
        "print (\"alphas has shape: \", alphas.shape)\n",
        "\n",
        "# bscorrs is the correlation between predicted and actual voxel responses for each round of cross-validation\n",
        "# within the Regression dataset\n",
        "print (\"bscorrs has shape (num alphas, num voxels, nboots): \", bscorrs.shape)\n",
        "\n",
        "# valinds is the indices of the time points in the Regression dataset that were used for each\n",
        "# round of cross-validation\n",
        "print (\"valinds has shape: \", np.array(valinds).shape)"
      ],
      "execution_count": 0,
      "outputs": []
    },
    {
      "cell_type": "markdown",
      "metadata": {
        "id": "qc46fSk-3YvW",
        "colab_type": "text"
      },
      "source": [
        "Testing the regression model by predicting responses"
      ]
    },
    {
      "cell_type": "code",
      "metadata": {
        "id": "ofyzt04l3UBV",
        "colab_type": "code",
        "colab": {}
      },
      "source": [
        "# Predict responses in the Prediction dataset\n",
        "\n",
        "# First let's refresh ourselves on the shapes of these matrices\n",
        "print (\"zPresp has shape: \", zPresp.shape)\n",
        "print (\"wt has shape: \", wt.shape)\n",
        "print (\"delPstim has shape: \", delPstim.shape)"
      ],
      "execution_count": 0,
      "outputs": []
    },
    {
      "cell_type": "code",
      "metadata": {
        "id": "_z0VB5Pt3jpD",
        "colab_type": "code",
        "colab": {}
      },
      "source": [
        "# Then let's predict responses by taking the dot product of the weights and stim\n",
        "pred = np.dot(delPstim, wt)\n",
        "\n",
        "print (\"pred has shape: \", pred.shape)\n"
      ],
      "execution_count": 0,
      "outputs": []
    },
    {
      "cell_type": "markdown",
      "metadata": {
        "id": "klDLKM6e3ojt",
        "colab_type": "text"
      },
      "source": [
        "Visualizing the predeicted and the actual responses"
      ]
    },
    {
      "cell_type": "code",
      "metadata": {
        "id": "dBTw1j6m3v1X",
        "colab_type": "code",
        "colab": {}
      },
      "source": [
        "f = figure(figsize=(15,5))\n",
        "ax = f.add_subplot(1,1,1)\n",
        "\n",
        "selvox = 20710 # a decent voxel\n",
        "\n",
        "realresp = ax.plot(zPresp[:,selvox], 'k')[0]\n",
        "predresp = ax.plot(pred[:,selvox], 'r')[0]\n",
        "\n",
        "ax.set_xlim(0, 291)\n",
        "ax.set_xlabel(\"Time (fMRI time points)\")\n",
        "\n",
        "ax.legend((realresp, predresp), (\"Actual response\", \"Predicted response\"));"
      ],
      "execution_count": 0,
      "outputs": []
    },
    {
      "cell_type": "markdown",
      "metadata": {
        "id": "mKUIcvZu342n",
        "colab_type": "text"
      },
      "source": [
        "the predicted and actual responses look pretty different scale-wise, although the patterns of ups and downs are vaguely similar. But we don't really care about the scale -- for fMRI it's relatively arbitrary anyway, so let's rescale them both to have unit standard deviation and re-plot."
      ]
    },
    {
      "cell_type": "code",
      "metadata": {
        "id": "xe3LUFUh30Jd",
        "colab_type": "code",
        "colab": {}
      },
      "source": [
        "f = figure(figsize=(15,5))\n",
        "ax = f.add_subplot(1,1,1)\n",
        "\n",
        "selvox = 20710 # a good voxel\n",
        "\n",
        "realresp = ax.plot(zPresp[:,selvox], 'k')[0]\n",
        "predresp = ax.plot(zscore(pred[:,selvox]), 'r')[0]\n",
        "\n",
        "ax.set_xlim(0, 291)\n",
        "ax.set_xlabel(\"Time (fMRI time points)\")\n",
        "\n",
        "ax.legend((realresp, predresp), (\"Actual response\", \"Predicted response (scaled)\"));"
      ],
      "execution_count": 0,
      "outputs": []
    },
    {
      "cell_type": "code",
      "metadata": {
        "id": "MzEEOx023-F9",
        "colab_type": "code",
        "colab": {}
      },
      "source": [
        "# Compute correlation between single predicted and actual response\n",
        "# (np.corrcoef returns a correlation matrix; pull out the element [0,1] to get \n",
        "# correlation between the two vectors)\n",
        "voxcorr = np.corrcoef(zPresp[:,selvox], pred[:,selvox])[0,1]\n",
        "print (\"Correlation between predicted and actual responses for voxel %d: %f\" % (selvox, voxcorr))"
      ],
      "execution_count": 0,
      "outputs": []
    },
    {
      "cell_type": "code",
      "metadata": {
        "id": "LQwnDTZurBfF",
        "colab_type": "code",
        "colab": {}
      },
      "source": [
        "np.mean(voxcorrs)"
      ],
      "execution_count": 0,
      "outputs": []
    },
    {
      "cell_type": "markdown",
      "metadata": {
        "id": "ZSs-Qwa14N36",
        "colab_type": "text"
      },
      "source": [
        "Visualizing the correleation across the brain"
      ]
    },
    {
      "cell_type": "code",
      "metadata": {
        "id": "Rn03QRSy4NJ5",
        "colab_type": "code",
        "colab": {}
      },
      "source": [
        "voxcorrs = np.zeros((zPresp.shape[1],)) # create zero-filled array to hold correlations\n",
        "for vi in range(zPresp.shape[1]):\n",
        "    voxcorrs[vi] = np.corrcoef(zPresp[:,vi], pred[:,vi])[0,1]\n",
        "\n",
        "    \n",
        "# Plot histogram of correlations\n",
        "f = figure(figsize=(8,8))\n",
        "ax = f.add_subplot(1,1,1)\n",
        "ax.hist(voxcorrs, 100) # histogram correlations with 100 bins\n",
        "ax.set_xlabel(\"Correlation\")\n",
        "ax.set_ylabel(\"Num. voxels\");"
      ],
      "execution_count": 0,
      "outputs": []
    },
    {
      "cell_type": "code",
      "metadata": {
        "id": "_Vz89BAf4KYI",
        "colab_type": "code",
        "colab": {}
      },
      "source": [
        "# Plot mosaic of correlations\n",
        "corrvolume = np.zeros(mask.shape)\n",
        "corrvolume[mask>0] = voxcorrs\n",
        "\n",
        "f = figure(figsize=(10,10))\n",
        "cortex.mosaic(corrvolume, vmin=0, vmax=0.5, cmap=cm.hot);\n",
        "\n",
        "\n",
        "# Plot correlations on cortex\n",
        "import cortex\n",
        "corrvol = cortex.Volume(corr, \"S1\",\"20110321S1_auto2\", mask=mask)\n",
        "# corrview = cortex.quickshow(corrvol, vmin=0, vmax=0.5, cmap='hot')\n",
        "#cortex.webshow(corrview, port=8889, open_browser=False) # Won't work on nbviewer\n",
        "cortex.quickshow(corrvol,with_rois=False, with_labels=False)\n",
        "# cortex.quickshow(corrvolume,with_rois=False, with_labels=False)\n",
        "# # Plot correlation flatmap\n",
        "# # cortex.quickshow(corrview, with_rois=False, with_labels=False);\n",
        "# # cotex"
      ],
      "execution_count": 0,
      "outputs": []
    },
    {
      "cell_type": "markdown",
      "metadata": {
        "id": "GBMdhX3ZOt5L",
        "colab_type": "text"
      },
      "source": [
        "# LSTM Model"
      ]
    },
    {
      "cell_type": "code",
      "metadata": {
        "id": "PI8Fdj0SOyi3",
        "colab_type": "code",
        "colab": {}
      },
      "source": [
        ""
      ],
      "execution_count": 0,
      "outputs": []
    }
  ]
}